{
 "cells": [
  {
   "cell_type": "markdown",
   "id": "aa35b178",
   "metadata": {},
   "source": [
    "# Generative Adversarial Networks\n",
    "### Deep Convolutional Generative Adversarial Network (DCGAN) \n",
    "### Example 2"
   ]
  },
  {
   "cell_type": "markdown",
   "id": "0ce81fd9",
   "metadata": {},
   "source": [
    "### Preparation \n",
    "**Step 1.** Download and install Git\n",
    "https://git-scm.com/download/win\n",
    "    \n",
    "**Step 2:** Install the following libraries \n",
    "- To generate GIFs\n",
    "- pip install imageio\n",
    "- pip install git+https://github.com/tensorflow/docs"
   ]
  },
  {
   "cell_type": "code",
   "execution_count": 1,
   "id": "8888b21e",
   "metadata": {},
   "outputs": [
    {
     "name": "stdout",
     "output_type": "stream",
     "text": [
      "WARNING:tensorflow:From C:\\Users\\yizhe\\anaconda3\\Lib\\site-packages\\keras\\src\\losses.py:2976: The name tf.losses.sparse_softmax_cross_entropy is deprecated. Please use tf.compat.v1.losses.sparse_softmax_cross_entropy instead.\n",
      "\n"
     ]
    }
   ],
   "source": [
    "import tensorflow as tf"
   ]
  },
  {
   "cell_type": "code",
   "execution_count": 2,
   "id": "4fc8aa45",
   "metadata": {},
   "outputs": [
    {
     "data": {
      "text/plain": [
       "'2.15.0'"
      ]
     },
     "execution_count": 2,
     "metadata": {},
     "output_type": "execute_result"
    }
   ],
   "source": [
    "tf.__version__"
   ]
  },
  {
   "cell_type": "code",
   "execution_count": 3,
   "id": "4e30b09a",
   "metadata": {},
   "outputs": [],
   "source": [
    "import glob\n",
    "import imageio\n",
    "import matplotlib.pyplot as plt\n",
    "import numpy as np\n",
    "import os\n",
    "import PIL\n",
    "from tensorflow.keras import layers\n",
    "import time\n",
    "\n",
    "from IPython import display"
   ]
  },
  {
   "cell_type": "markdown",
   "id": "cec392b6",
   "metadata": {},
   "source": [
    "### Load and prepare the dataset\n",
    "You will use the MNIST dataset to train the generator and the discriminator. The generator will generate handwritten digits resembling the MNIST data."
   ]
  },
  {
   "cell_type": "code",
   "execution_count": 4,
   "id": "7d88ee38",
   "metadata": {},
   "outputs": [],
   "source": [
    "(train_images, train_labels), (_, _) = tf.keras.datasets.mnist.load_data()"
   ]
  },
  {
   "cell_type": "code",
   "execution_count": 5,
   "id": "38a02b6b",
   "metadata": {
    "scrolled": true
   },
   "outputs": [
    {
     "data": {
      "text/plain": [
       "array([5, 0, 4, ..., 5, 6, 8], dtype=uint8)"
      ]
     },
     "execution_count": 5,
     "metadata": {},
     "output_type": "execute_result"
    }
   ],
   "source": [
    "train_labels"
   ]
  },
  {
   "cell_type": "code",
   "execution_count": 6,
   "id": "95346dd3",
   "metadata": {},
   "outputs": [
    {
     "name": "stdout",
     "output_type": "stream",
     "text": [
      "60000\n"
     ]
    }
   ],
   "source": [
    "print(len(train_labels))"
   ]
  },
  {
   "cell_type": "code",
   "execution_count": 7,
   "id": "bb58d6d7",
   "metadata": {},
   "outputs": [
    {
     "data": {
      "text/plain": [
       "(60000, 28, 28)"
      ]
     },
     "execution_count": 7,
     "metadata": {},
     "output_type": "execute_result"
    }
   ],
   "source": [
    "train_images.shape"
   ]
  },
  {
   "cell_type": "code",
   "execution_count": 8,
   "id": "6cf0bb06",
   "metadata": {},
   "outputs": [
    {
     "data": {
      "text/plain": [
       "(60000, 28, 28, 1)"
      ]
     },
     "execution_count": 8,
     "metadata": {},
     "output_type": "execute_result"
    }
   ],
   "source": [
    "train_images = train_images.reshape(train_images.shape[0], 28, 28, 1).astype('float32')\n",
    "train_images = (train_images - 127.5) / 127.5  # Normalize the images to [-1, 1]\n",
    "train_images.shape"
   ]
  },
  {
   "cell_type": "code",
   "execution_count": 9,
   "id": "45b0972c",
   "metadata": {},
   "outputs": [],
   "source": [
    "BUFFER_SIZE = 60000\n",
    "BATCH_SIZE = 256"
   ]
  },
  {
   "cell_type": "code",
   "execution_count": 10,
   "id": "a956684c",
   "metadata": {},
   "outputs": [],
   "source": [
    "# Batch and shuffle the data\n",
    "train_dataset = tf.data.Dataset.from_tensor_slices(train_images).shuffle(BUFFER_SIZE).batch(BATCH_SIZE)"
   ]
  },
  {
   "cell_type": "markdown",
   "id": "34fc55fb",
   "metadata": {},
   "source": [
    "This code is using TensorFlow's Dataset API to create a dataset for training a machine learning model. Let's break down the code step by step:\n",
    "\n",
    "- tf.data.Dataset.from_tensor_slices(train_images): This part of the code creates a TensorFlow dataset from a given NumPy array or tensor (train_images). Each element of the dataset will correspond to a slice of the first dimension of train_images. So, if train_images is a NumPy array with dimensions [num_samples, ...], where num_samples is the number of samples in the dataset, then each element of the dataset will be one sample.\n",
    "\n",
    "- shuffle(BUFFER_SIZE): This part shuffles the elements of the dataset. It takes an argument BUFFER_SIZE, which specifies the size of the buffer used for shuffling. TensorFlow will maintain a buffer of this size and randomly sample elements from it to shuffle the dataset. This helps in randomizing the order of the data during training, which can be beneficial for stochastic gradient descent.\n",
    "\n",
    "- batch(BATCH_SIZE): This part batches together consecutive elements of the dataset into batches of size BATCH_SIZE. Batching is important for training neural networks because it allows you to process multiple data points simultaneously, which can improve training efficiency, especially when using hardware accelerators like GPUs or TPUs. BATCH_SIZE specifies the number of elements to include in each batch.\n",
    "\n",
    "Putting it all together, the train_dataset created by this code will contain shuffled batches of training data, where each batch contains BATCH_SIZE samples, and the order of samples within each batch is randomized. This dataset can then be used to train a machine learning model, typically in a training loop where you iterate over batches of data and update the model parameters accordingly."
   ]
  },
  {
   "cell_type": "markdown",
   "id": "a95fd86a",
   "metadata": {},
   "source": [
    "### Create the models\n",
    "Both the generator and discriminator are defined using the Keras Sequential API."
   ]
  },
  {
   "cell_type": "markdown",
   "id": "531c6196",
   "metadata": {},
   "source": [
    "The Keras Sequential API is a high-level neural networks API provided by TensorFlow. It allows you to define models for deep learning tasks using a simple, linear stack of layers. This API is user-friendly, making it ideal for beginners and for quickly prototyping deep learning models. Here's an overview of how the Sequential API works:\n",
    "\n",
    "- Initialization: You start by creating a Sequential model object.\n",
    "\n",
    "- Layer Stacking: You then add layers to the model one by one. These layers can be dense (fully connected), convolutional, recurrent, or any other type of layer provided by Keras.\n",
    "\n",
    "- Compilation: After defining the architecture of the model by stacking layers, you compile the model. During compilation, you specify important parameters such as the loss function, the optimizer, and the metrics to monitor during training."
   ]
  },
  {
   "cell_type": "markdown",
   "id": "d4244005",
   "metadata": {},
   "source": [
    "#### The Generator\n",
    "The generator uses tf.keras.layers.Conv2DTranspose (upsampling) layers to produce an image from a seed (random noise). Start with a Dense layer that takes this seed as input, then upsample several times until you reach the desired image size of 28x28x1. Notice the tf.keras.layers.LeakyReLU activation for each layer, except the output layer which uses tanh."
   ]
  },
  {
   "cell_type": "code",
   "execution_count": 11,
   "id": "92f7b2ee",
   "metadata": {},
   "outputs": [],
   "source": [
    "def make_generator_model():\n",
    "    model = tf.keras.Sequential()\n",
    "    # Layer 1: \n",
    "    model.add(layers.Dense(7*7*256, use_bias=False, input_shape=(100,)))\n",
    "    # Layer 2: \n",
    "    model.add(layers.BatchNormalization())\n",
    "    # Layer 3: \n",
    "    model.add(layers.LeakyReLU())\n",
    "    \n",
    "    # Layer 4: \n",
    "    model.add(layers.Reshape((7, 7, 256)))\n",
    "    assert model.output_shape == (None, 7, 7, 256)  # Note: None is the batch size\n",
    "    \n",
    "    # Layer 5: error\n",
    "    model.add(layers.Conv2DTranspose(128, (5, 5), strides=(1, 1), padding='same', use_bias=False))\n",
    "    assert model.output_shape == (None, 7, 7, 128)\n",
    "    # Layer 6: \n",
    "    model.add(layers.BatchNormalization())\n",
    "    # Layer 7: \n",
    "    model.add(layers.LeakyReLU())\n",
    "\n",
    "    # Layer 8: error\n",
    "    model.add(layers.Conv2DTranspose(64, (5, 5), strides=(2, 2), padding='same', use_bias=False))\n",
    "    assert model.output_shape == (None, 14, 14, 64)\n",
    "    # Layer 9: \n",
    "    model.add(layers.BatchNormalization())\n",
    "    # Layer 10: \n",
    "    model.add(layers.LeakyReLU())\n",
    "    # Layer 11: \n",
    "    model.add(layers.Conv2DTranspose(1, (5, 5), strides=(2, 2), padding='same', use_bias=False, activation='tanh'))\n",
    "    assert model.output_shape == (None, 28, 28, 1)\n",
    "\n",
    "    return model"
   ]
  },
  {
   "cell_type": "markdown",
   "id": "f395dcf4",
   "metadata": {},
   "source": [
    "let's break down the code make_generator_model() line by line:\n",
    "\n",
    "- def make_generator_model():: This line defines a Python function named make_generator_model. This function is intended to create a generator model for a Generative Adversarial Network (GAN) using TensorFlow/Keras.\n",
    "\n",
    "- model = tf.keras.Sequential(): This line initializes a sequential model using Keras. Sequential models are linear stacks of layers.\n",
    "\n",
    "- model.add(layers.Dense(7*7*256, use_bias=False, input_shape=(100,))): This line adds a dense (fully connected) layer to the model. The layer has $7\\times7\\times256 = 12544$ units, meaning it has $12544$ neurons. The input_shape=(100,) specifies that the input to this layer is a 1D tensor of shape (100,). The use_bias=False argument indicates that the layer will not include bias terms.\n",
    "\n",
    "- model.add(layers.BatchNormalization()): This line adds a batch normalization layer to the model. Batch normalization is a technique used to improve the training speed and stability of deep neural networks by normalizing the inputs of each layer.\n",
    "\n",
    "- model.add(layers.LeakyReLU()): This line adds a Leaky ReLU activation function to the model. Leaky ReLU is similar to the traditional ReLU activation function but allows a small, positive gradient when the input is negative, which can help mitigate the vanishing gradient problem.\n",
    "\n",
    "- model.add(layers.Reshape((7, 7, 256))): This line adds a reshape layer to the model. It reshapes the output of the previous layer to have a shape of (7, 7, 256).\n",
    "\n",
    "- assert model.output_shape == (None, 7, 7, 256): This line ensures that the output shape of the model matches the expected shape (None, 7, 7, 256). The None dimension indicates that the batch size can be variable."
   ]
  },
  {
   "cell_type": "markdown",
   "id": "1525fa99",
   "metadata": {},
   "source": [
    "The next three blocks of code (model.add(layers.Conv2DTranspose(...)), model.add(layers.BatchNormalization()), model.add(layers.LeakyReLU())) repeat similar operations but with different parameters. These lines add convolutional transpose layers (also known as deconvolutional layers), batch normalization layers, and Leaky ReLU activation functions sequentially to the model.<br>\n",
    "\n",
    "This line adds a transposed convolutional layer (Conv2DTranspose) to the model. Transposed convolutional layers are used for upsampling or generating higher-resolution outputs from lower-resolution inputs.<br>\n",
    "**Parameters:**\n",
    "- 128: This indicates the number of filters (or channels) in the layer. The layer will output 128 feature maps.\n",
    "- (5, 5): This specifies the kernel size (filter size) of the convolution operation. In this case, it's a 5x5 filter.\n",
    "- strides=(1, 1): The stride of the convolution operation. Here, it's (1, 1), which means the convolution operation moves 1 pixel at a time in both the height and width dimensions.\n",
    "- padding='same': This ensures that the output has the same spatial dimensions as the input by padding the input if necessary.\n",
    "- use_bias=False: This indicates that the layer will not use bias terms. Overall, this layer performs a transposed convolution operation, which effectively upsamples the input to the desired output shape.\n",
    "- The final block of code (model.add(layers.Conv2DTranspose(...))) adds a convolutional transpose layer with a tanh activation function. This layer is responsible for generating the output of the generator model. The tanh activation function ensures that the output values are scaled to the range [-1, 1], suitable for representing images.<br>\n",
    "\n",
    "assert model.output_shape == (None, 28, 28, 1): This line ensures that the output shape of the model matches the expected shape (None, 28, 28, 1), which corresponds to the shape of the generated images.\n",
    "return model: Finally, the function returns the completed generator model."
   ]
  },
  {
   "cell_type": "markdown",
   "id": "5c94da0d",
   "metadata": {},
   "source": [
    "Use the (as yet untrained) generator to create an image."
   ]
  },
  {
   "cell_type": "code",
   "execution_count": 9,
   "id": "1dbb493e",
   "metadata": {},
   "outputs": [
    {
     "name": "stdout",
     "output_type": "stream",
     "text": [
      "WARNING:tensorflow:From C:\\Users\\yizhe\\anaconda3\\Lib\\site-packages\\keras\\src\\backend.py:873: The name tf.get_default_graph is deprecated. Please use tf.compat.v1.get_default_graph instead.\n",
      "\n",
      "WARNING:tensorflow:From C:\\Users\\yizhe\\anaconda3\\Lib\\site-packages\\keras\\src\\layers\\normalization\\batch_normalization.py:979: The name tf.nn.fused_batch_norm is deprecated. Please use tf.compat.v1.nn.fused_batch_norm instead.\n",
      "\n"
     ]
    },
    {
     "data": {
      "text/plain": [
       "<matplotlib.image.AxesImage at 0x1bcac505f50>"
      ]
     },
     "execution_count": 9,
     "metadata": {},
     "output_type": "execute_result"
    },
    {
     "data": {
      "image/png": "[encoded data removed]",
      "text/plain": [
       "<Figure size 640x480 with 1 Axes>"
      ]
     },
     "metadata": {},
     "output_type": "display_data"
    }
   ],
   "source": [
    "generator = make_generator_model()\n",
    "\n",
    "noise = tf.random.normal([1, 100])\n",
    "generated_image = generator(noise, training=False)\n",
    "\n",
    "plt.imshow(generated_image[0, :, :, 0], cmap='gray')"
   ]
  },
  {
   "cell_type": "markdown",
   "id": "35d7b4e9",
   "metadata": {},
   "source": [
    "This code appears to be generating an image using a pre-trained generator model. Let's break it down step by step:\n",
    "\n",
    "- generator = make_generator_model(): This line likely calls a function make_generator_model() that creates and returns a generator model. This generator model is typically a neural network, possibly implemented using a deep learning framework like TensorFlow.\n",
    "\n",
    "- noise = tf.random.normal([1, 100]): This line generates random noise with shape [1, 100]. The noise is typically sampled from a normal distribution using TensorFlow's random module (tf.random.normal). In many generative models, such as Generative Adversarial Networks (GANs), this noise serves as input to the generator network to produce synthetic images.\n",
    "\n",
    "- generated_image = generator(noise, training=False): Here, the generator model is called with the generated noise as input. The training=False argument indicates that the model should run in inference mode rather than training mode. This means that any layers that behave differently during training, such as dropout or batch normalization layers, will operate in inference mode.\n",
    "\n",
    "- plt.imshow(generated_image[0, :, :, 0], cmap='gray'): Finally, this line displays the generated image using Matplotlib's imshow function. Since generated_image likely has a shape of [1, height, width, channels], this line extracts the first (and only) image from the batch and selects its first channel (assuming it's a grayscale image) for display. The cmap='gray' argument specifies that the colormap used for displaying the image should be grayscale."
   ]
  },
  {
   "cell_type": "markdown",
   "id": "deb360d3",
   "metadata": {},
   "source": [
    "#### The Discriminator\n",
    "The discriminator is a CNN-based image classifier."
   ]
  },
  {
   "cell_type": "code",
   "execution_count": 10,
   "id": "f754266c",
   "metadata": {},
   "outputs": [],
   "source": [
    "def make_discriminator_model():\n",
    "    model = tf.keras.Sequential()\n",
    "    # Layer 1\n",
    "    model.add(layers.Conv2D(64, (5, 5), strides=(2, 2), padding='same',\n",
    "                                     input_shape=[28, 28, 1]))\n",
    "    # Layer 2\n",
    "    model.add(layers.LeakyReLU())\n",
    "    # Layer 3\n",
    "    model.add(layers.Dropout(0.3))\n",
    "    # Layer 4\n",
    "    model.add(layers.Conv2D(128, (5, 5), strides=(2, 2), padding='same'))\n",
    "    # Layer 5\n",
    "    model.add(layers.LeakyReLU())\n",
    "    # Layer 6\n",
    "    model.add(layers.Dropout(0.3))\n",
    "    # Layer 7\n",
    "    model.add(layers.Flatten())\n",
    "    # Layer 8\n",
    "    model.add(layers.Dense(1))\n",
    "\n",
    "    return model"
   ]
  },
  {
   "cell_type": "markdown",
   "id": "e461c59a",
   "metadata": {},
   "source": [
    "This code defines a discriminator model, typically used in adversarial learning setups like Generative Adversarial Networks (GANs). Let's go through it step by step:\n",
    "\n",
    "- model = tf.keras.Sequential(): This line initializes a sequential model using TensorFlow's Keras API. A sequential model is a linear stack of layers.\n",
    "\n",
    "- model.add(layers.Conv2D(64, (5, 5), strides=(2, 2), padding='same', input_shape=[28, 28, 1])): This line adds a convolutional layer to the model. It has 64 filters, each with a kernel size of (5, 5), a stride of (2, 2) (meaning the filter is applied every 2 pixels), and 'same' padding, which means the spatial dimensions of the output feature map are the same as the input. The input_shape specifies the shape of the input data, which is a 28x28 grayscale image ([28, 28, 1]).\n",
    "\n",
    "- model.add(layers.LeakyReLU()): This adds a Leaky ReLU activation function to introduce non-linearity. Leaky ReLU is similar to the traditional ReLU but allows a small, positive gradient when the input is negative, helping to alleviate the vanishing gradient problem.\n",
    "\n",
    "- model.add(layers.Dropout(0.3)): Dropout is a regularization technique used to prevent overfitting by randomly setting a fraction of input units to zero during training. Here, it's applied with a dropout rate of 0.3, meaning 30% of the units will be randomly set to zero during training.\n",
    "\n",
    "- model.add(layers.Conv2D(128, (5, 5), strides=(2, 2), padding='same')): Similar to step 2, this adds another convolutional layer with 128 filters and the same configuration as before.\n",
    "\n",
    "- model.add(layers.LeakyReLU()) and model.add(layers.Dropout(0.3)): Again, these lines add Leaky ReLU activation and dropout layers, applying the same configuration as described above.\n",
    "\n",
    "- model.add(layers.Flatten()): This layer flattens the output from the convolutional layers into a 1D tensor. This is necessary to connect the convolutional layers to a fully connected (Dense) layer.\n",
    "\n",
    "- model.add(layers.Dense(1)): Finally, a dense layer with a single neuron is added. This neuron will output a single value, representing the discriminator's prediction of whether the input image is real or fake.\n",
    "\n",
    "- return model: The function returns the compiled discriminator model."
   ]
  },
  {
   "cell_type": "markdown",
   "id": "fee76ad3",
   "metadata": {},
   "source": [
    "Use the (as yet untrained) discriminator to classify the generated images as real or fake. The model will be trained to output positive values for real images, and negative values for fake images."
   ]
  },
  {
   "cell_type": "code",
   "execution_count": 11,
   "id": "048f3b21",
   "metadata": {},
   "outputs": [
    {
     "name": "stdout",
     "output_type": "stream",
     "text": [
      "tf.Tensor([[-0.00201605]], shape=(1, 1), dtype=float32)\n"
     ]
    }
   ],
   "source": [
    "discriminator = make_discriminator_model()\n",
    "decision = discriminator(generated_image)\n",
    "print (decision)"
   ]
  },
  {
   "cell_type": "markdown",
   "id": "8f201f77",
   "metadata": {},
   "source": [
    "### Define the loss and optimizers\n",
    "Define loss functions and optimizers for both models."
   ]
  },
  {
   "cell_type": "code",
   "execution_count": 12,
   "id": "5fa7ec1c",
   "metadata": {},
   "outputs": [],
   "source": [
    "# This method returns a helper function to compute cross entropy loss\n",
    "cross_entropy = tf.keras.losses.BinaryCrossentropy(from_logits=True)"
   ]
  },
  {
   "cell_type": "markdown",
   "id": "c34e24f7",
   "metadata": {},
   "source": [
    "#### Discriminator loss\n",
    "This method quantifies how well the discriminator is able to distinguish real images from fakes. It compares the discriminator's predictions on real images to an array of 1s, and the discriminator's predictions on fake (generated) images to an array of 0s."
   ]
  },
  {
   "cell_type": "code",
   "execution_count": 13,
   "id": "a3ffbd09",
   "metadata": {},
   "outputs": [],
   "source": [
    "def discriminator_loss(real_output, fake_output):\n",
    "    real_loss = cross_entropy(tf.ones_like(real_output), real_output)\n",
    "    fake_loss = cross_entropy(tf.zeros_like(fake_output), fake_output)\n",
    "    total_loss = real_loss + fake_loss\n",
    "    return total_loss"
   ]
  },
  {
   "cell_type": "markdown",
   "id": "2b17b060",
   "metadata": {},
   "source": [
    "#### Generator loss\n",
    "The generator's loss quantifies how well it was able to trick the discriminator. Intuitively, if the generator is performing well, the discriminator will classify the fake images as real (or 1). Here, compare the discriminators decisions on the generated images to an array of 1s."
   ]
  },
  {
   "cell_type": "code",
   "execution_count": 14,
   "id": "cf069a91",
   "metadata": {},
   "outputs": [],
   "source": [
    "def generator_loss(fake_output):\n",
    "    return cross_entropy(tf.ones_like(fake_output), fake_output)"
   ]
  },
  {
   "cell_type": "markdown",
   "id": "c9e1bf6b",
   "metadata": {},
   "source": [
    "The discriminator and the generator optimizers are different since you will train two networks separately."
   ]
  },
  {
   "cell_type": "code",
   "execution_count": 15,
   "id": "c58aca8a",
   "metadata": {},
   "outputs": [],
   "source": [
    "generator_optimizer = tf.keras.optimizers.Adam(1e-4)\n",
    "discriminator_optimizer = tf.keras.optimizers.Adam(1e-4)"
   ]
  },
  {
   "cell_type": "markdown",
   "id": "d0a5ecde",
   "metadata": {},
   "source": [
    "#### Save checkpoints\n",
    "This notebook also demonstrates how to save and restore models, which can be helpful in case a long running training task is interrupted."
   ]
  },
  {
   "cell_type": "code",
   "execution_count": 16,
   "id": "4e112b2d",
   "metadata": {},
   "outputs": [],
   "source": [
    "checkpoint_dir = './training_checkpoints'\n",
    "checkpoint_prefix = os.path.join(checkpoint_dir, \"ckpt\")\n",
    "checkpoint = tf.train.Checkpoint(generator_optimizer=generator_optimizer,\n",
    "                                 discriminator_optimizer=discriminator_optimizer,\n",
    "                                 generator=generator,\n",
    "                                 discriminator=discriminator)"
   ]
  },
  {
   "cell_type": "markdown",
   "id": "dce3f3d9",
   "metadata": {},
   "source": [
    "### Define the training loop"
   ]
  },
  {
   "cell_type": "code",
   "execution_count": 17,
   "id": "392e3acc",
   "metadata": {},
   "outputs": [],
   "source": [
    "EPOCHS = 50\n",
    "noise_dim = 100\n",
    "num_examples_to_generate = 16\n",
    "\n",
    "# You will reuse this seed overtime (so it's easier)\n",
    "# to visualize progress in the animated GIF)\n",
    "seed = tf.random.normal([num_examples_to_generate, noise_dim])"
   ]
  },
  {
   "cell_type": "markdown",
   "id": "33b747a0",
   "metadata": {},
   "source": [
    "- EPOCHS = 50: This line sets the number of epochs for training. An epoch refers to one complete pass through the entire dataset during training.\n",
    "\n",
    "- noise_dim = 100: This line sets the dimensionality of the noise vector. In many generative models like Generative Adversarial Networks (GANs), noise vectors are input to the generator model to produce new samples. Here, noise_dim is set to 100, meaning each noise vector will have 100 dimensions.\n",
    "\n",
    "- num_examples_to_generate = 16: This line sets the number of examples to generate. In this context, it likely means the number of images to generate at once for visualization or evaluation purposes.\n",
    "\n",
    "- seed = tf.random.normal([num_examples_to_generate, noise_dim]):\n",
    "\n",
    "This line generates a random seed or noise tensor using TensorFlow's random normal distribution.\n",
    "The shape of the tensor is specified as [num_examples_to_generate, noise_dim], meaning there will be num_examples_to_generate noise vectors, each with noise_dim dimensions. This seed is often used as input to the generator model to produce a batch of generated samples. It's useful for visualizing progress during training or generating new samples after training is complete."
   ]
  },
  {
   "cell_type": "markdown",
   "id": "491f8caa",
   "metadata": {},
   "source": [
    "The training loop begins with generator receiving a random seed as input. That seed is used to produce an image. The discriminator is then used to classify real images (drawn from the training set) and fakes images (produced by the generator). The loss is calculated for each of these models, and the gradients are used to update the generator and discriminator."
   ]
  },
  {
   "cell_type": "code",
   "execution_count": 18,
   "id": "51aedbda",
   "metadata": {},
   "outputs": [],
   "source": [
    "# Notice the use of `tf.function`\n",
    "# This annotation causes the function to be \"compiled\".\n",
    "@tf.function\n",
    "def train_step(images):\n",
    "    noise = tf.random.normal([BATCH_SIZE, noise_dim])\n",
    "\n",
    "    with tf.GradientTape() as gen_tape, tf.GradientTape() as disc_tape:\n",
    "      generated_images = generator(noise, training=True)\n",
    "\n",
    "      real_output = discriminator(images, training=True)\n",
    "      fake_output = discriminator(generated_images, training=True)\n",
    "\n",
    "      gen_loss = generator_loss(fake_output)\n",
    "      disc_loss = discriminator_loss(real_output, fake_output)\n",
    "\n",
    "    gradients_of_generator = gen_tape.gradient(gen_loss, generator.trainable_variables)\n",
    "    gradients_of_discriminator = disc_tape.gradient(disc_loss, discriminator.trainable_variables)\n",
    "\n",
    "    generator_optimizer.apply_gradients(zip(gradients_of_generator, generator.trainable_variables))\n",
    "    discriminator_optimizer.apply_gradients(zip(gradients_of_discriminator, discriminator.trainable_variables))"
   ]
  },
  {
   "cell_type": "markdown",
   "id": "36fd4408",
   "metadata": {},
   "source": [
    "The above code defines a TensorFlow function train_step decorated with @tf.function. Let's break it down:\n",
    "- @tf.function: This decorator converts the Python function train_step into a TensorFlow graph function. TensorFlow graph functions are compiled into a graph representation, which can lead to faster execution compared to the original Python code.\n",
    "\n",
    "- def train_step(images):: This line defines the function train_step, which takes a batch of images (images) as input. This function performs one step of training in a GAN (Generative Adversarial Network).\n",
    "\n",
    "- noise = tf.random.normal([BATCH_SIZE, noise_dim]): It generates a batch of random noise vectors of shape [BATCH_SIZE, noise_dim]. BATCH_SIZE = 256 and noise_dim = 100 are defined elsewhere in the code.\n",
    "\n",
    "- with tf.GradientTape() as gen_tape, tf.GradientTape() as disc_tape:: This code block sets up two gradient tapes, one for the generator (gen_tape) and one for the discriminator (disc_tape). Gradient tapes are used to compute gradients with respect to the trainable variables.\n",
    "\n",
    "- generated_images = generator(noise, training=True): This line generates fake images by passing the random noise through the generator model (generator). The training=True argument ensures that the model is in training mode, which can be important for models that include layers like batch normalization or dropout.\n",
    "\n",
    "- real_output = discriminator(images, training=True): This line computes the output of the discriminator (discriminator) on real images (images). Again, training=True ensures that the discriminator is in training mode.\n",
    "\n",
    "- fake_output = discriminator(generated_images, training=True): This line computes the output of the discriminator on the generated (fake) images.\n",
    "\n",
    "- gen_loss = generator_loss(fake_output): This line computes the loss for the generator based on the output of the discriminator on the generated images. generator_loss is a function that computes the loss for the generator.\n",
    "\n",
    "- disc_loss = discriminator_loss(real_output, fake_output): This line computes the loss for the discriminator based on its outputs for real and fake images. discriminator_loss is a function that computes the loss for the discriminator.\n",
    "\n",
    "- Gradient computation: The next lines compute the gradients of the generator and discriminator losses with respect to their trainable variables using the gradient tapes.\n",
    "\n",
    "- generator_optimizer.apply_gradients(zip(gradients_of_generator, generator.trainable_variables)): This line applies the computed gradients to the generator's trainable variables using an optimizer (generator_optimizer). Similarly, the gradients for the discriminator are applied to its trainable variables.\n",
    "\n",
    "In summary, this train_step function is an essential part of training a G"
   ]
  },
  {
   "cell_type": "code",
   "execution_count": 19,
   "id": "6242f5f6",
   "metadata": {},
   "outputs": [],
   "source": [
    "def train(dataset, epochs):\n",
    "  for epoch in range(epochs):\n",
    "    start = time.time()\n",
    "\n",
    "    for image_batch in dataset:\n",
    "      train_step(image_batch)\n",
    "\n",
    "    # Produce images for the GIF as you go\n",
    "    display.clear_output(wait=True)\n",
    "    generate_and_save_images(generator,\n",
    "                             epoch + 1,\n",
    "                             seed)\n",
    "\n",
    "    # Save the model every 15 epochs\n",
    "    if (epoch + 1) % 15 == 0:\n",
    "      checkpoint.save(file_prefix = checkpoint_prefix)\n",
    "\n",
    "    print ('Time for epoch {} is {} sec'.format(epoch + 1, time.time()-start))\n",
    "\n",
    "  # Generate after the final epoch\n",
    "  display.clear_output(wait=True)\n",
    "  generate_and_save_images(generator,\n",
    "                           epochs,\n",
    "                           seed)"
   ]
  },
  {
   "cell_type": "markdown",
   "id": "1184b476",
   "metadata": {},
   "source": [
    "This code defines a training loop for training the above GAN, over a specified number of epochs. Let's break down the code:\n",
    "\n",
    "- def train(dataset, epochs):: This function train takes two arguments: dataset, which likely contains the training data, and epochs, which specifies the number of training epochs.\n",
    "\n",
    "- for epoch in range(epochs):: This loop iterates over each epoch from 0 to epochs - 1.\n",
    "\n",
    "- start = time.time(): This line records the start time of each epoch, used for measuring the time taken for each epoch.\n",
    "\n",
    "- for image_batch in dataset:: This loop iterates over batches of images in the dataset. It's assumed that dataset is an iterable containing batches of images.\n",
    "\n",
    "- train_step(image_batch): This line calls a function train_step, which performs one step of training using the given batch of images. The details of this function are not provided here but typically involve updating the weights of the generator and discriminator networks of a GAN.\n",
    "\n",
    "- display.clear_output(wait=True): This line clears the output display, likely used to show progress updates during training.\n",
    "\n",
    "- generate_and_save_images(generator, epoch + 1, seed): This line calls a function generate_and_save_images, which generates and saves images using the generator model. It's likely used to visualize the progress of the generator over training epochs.\n",
    "\n",
    "- if (epoch + 1) % 15 == 0:: This condition checks if the current epoch number is a multiple of 15. If it is, it saves the model's current state using a checkpoint.\n",
    "\n",
    "- checkpoint.save(file_prefix = checkpoint_prefix): This line saves the model checkpoint using the provided checkpoint prefix.\n",
    "\n",
    "- print ('Time for epoch {} is {} sec'.format(epoch + 1, time.time()-start)): This line prints the time taken for the current epoch.\n",
    "\n",
    "The training loop concludes by generating and saving images using the generator after the final epoch."
   ]
  },
  {
   "cell_type": "markdown",
   "id": "720e71a6",
   "metadata": {},
   "source": [
    "Generate and save images"
   ]
  },
  {
   "cell_type": "code",
   "execution_count": 20,
   "id": "90f922ce",
   "metadata": {},
   "outputs": [],
   "source": [
    "def generate_and_save_images(model, epoch, test_input):\n",
    "  # Notice `training` is set to False.\n",
    "  # This is so all layers run in inference mode (batchnorm).\n",
    "  predictions = model(test_input, training=False)\n",
    "\n",
    "  fig = plt.figure(figsize=(4, 4))\n",
    "\n",
    "  for i in range(predictions.shape[0]):\n",
    "      plt.subplot(4, 4, i+1)\n",
    "      plt.imshow(predictions[i, :, :, 0] * 127.5 + 127.5, cmap='gray')\n",
    "      plt.axis('off')\n",
    "\n",
    "  plt.savefig('./results/image_at_epoch_{:04d}.png'.format(epoch))\n",
    "  plt.show()"
   ]
  },
  {
   "cell_type": "markdown",
   "id": "5c579060",
   "metadata": {},
   "source": [
    "### Train the model\n",
    "Call the train() method defined above to train the generator and discriminator simultaneously. Note, training GANs can be tricky. It's important that the generator and discriminator do not overpower each other (e.g., that they train at a similar rate).\n",
    "\n",
    "At the beginning of the training, the generated images look like random noise. As training progresses, the generated digits will look increasingly real. After about 50 epochs, they resemble MNIST digits. This may take about one minute / epoch with the default settings on Colab."
   ]
  },
  {
   "cell_type": "code",
   "execution_count": null,
   "id": "1232ae1d",
   "metadata": {
    "scrolled": true
   },
   "outputs": [
    {
     "data": {
      "image/png": "[encoded data removed]",
      "text/plain": [
       "<Figure size 400x400 with 16 Axes>"
      ]
     },
     "metadata": {},
     "output_type": "display_data"
    },
    {
     "name": "stdout",
     "output_type": "stream",
     "text": [
      "Time for epoch 11 is 158.52828907966614 sec\n"
     ]
    }
   ],
   "source": [
    "train(train_dataset, EPOCHS)"
   ]
  },
  {
   "cell_type": "markdown",
   "id": "03a097d9",
   "metadata": {},
   "source": [
    "Restore the latest checkpoint."
   ]
  },
  {
   "cell_type": "code",
   "execution_count": null,
   "id": "dbcd457e",
   "metadata": {},
   "outputs": [],
   "source": [
    "checkpoint.restore(tf.train.latest_checkpoint(checkpoint_dir))"
   ]
  },
  {
   "cell_type": "markdown",
   "id": "99983376",
   "metadata": {},
   "source": [
    "### Create a GIF"
   ]
  },
  {
   "cell_type": "code",
   "execution_count": null,
   "id": "d33ed8a7",
   "metadata": {},
   "outputs": [],
   "source": [
    "# Display a single image using the epoch number\n",
    "def display_image(epoch_no):\n",
    "  return PIL.Image.open('./results/image_at_epoch_{:04d}.png'.format(epoch_no))"
   ]
  },
  {
   "cell_type": "code",
   "execution_count": null,
   "id": "bd6489b3",
   "metadata": {},
   "outputs": [],
   "source": [
    "display_image(EPOCHS)"
   ]
  },
  {
   "cell_type": "markdown",
   "id": "3493be68",
   "metadata": {},
   "source": [
    "Use imageio to create an animated gif using the images saved during training."
   ]
  },
  {
   "cell_type": "code",
   "execution_count": null,
   "id": "5dd37e77",
   "metadata": {},
   "outputs": [],
   "source": [
    "anim_file = 'dcgan.gif'\n",
    "\n",
    "with imageio.get_writer(anim_file, mode='I') as writer:\n",
    "  filenames = glob.glob('image*.png')\n",
    "  filenames = sorted(filenames)\n",
    "  for filename in filenames:\n",
    "    image = imageio.imread(filename)\n",
    "    writer.append_data(image)\n",
    "  image = imageio.imread(filename)\n",
    "  writer.append_data(image)"
   ]
  },
  {
   "cell_type": "code",
   "execution_count": null,
   "id": "745acd99",
   "metadata": {},
   "outputs": [],
   "source": [
    "import tensorflow_docs.vis.embed as embed\n",
    "embed.embed_file(anim_file)"
   ]
  },
  {
   "cell_type": "markdown",
   "id": "c31e0111",
   "metadata": {},
   "source": [
    "### Next steps\n",
    "This tutorial has shown the complete code necessary to write and train a GAN. As a next step, you might like to experiment with a different dataset, for example the Large-scale Celeb Faces Attributes (CelebA) dataset available on Kaggle. To learn more about GANs see the NIPS 2016 Tutorial: Generative Adversarial Networks."
   ]
  },
  {
   "cell_type": "code",
   "execution_count": null,
   "id": "946a5871",
   "metadata": {},
   "outputs": [],
   "source": []
  }
 ],
 "metadata": {
  "kernelspec": {
   "display_name": "Python 3 (ipykernel)",
   "language": "python",
   "name": "python3"
  },
  "language_info": {
   "codemirror_mode": {
    "name": "ipython",
    "version": 3
   },
   "file_extension": ".py",
   "mimetype": "text/x-python",
   "name": "python",
   "nbconvert_exporter": "python",
   "pygments_lexer": "ipython3",
   "version": "3.11.5"
  }
 },
 "nbformat": 4,
 "nbformat_minor": 5
}

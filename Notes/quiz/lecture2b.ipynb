{
 "cells": [
  {
   "cell_type": "code",
   "execution_count": 1,
   "metadata": {},
   "outputs": [],
   "source": [
    "mcq = [{\"question\": \"In a neural network, what are layers responsible for?\", \"opt1\": \"Organizing and processing data\", \"opt2\": \"Connecting individual neurons\", \"opt3\": \"Providing input and output\", \"opt4\": \"All of the above\"}, {\"question\": \"What is the role of the input layer in a neural network?\", \"opt1\": \"Processes intermediate data\", \"opt2\": \"Receives raw input data\", \"opt3\": \"Produces the final output\", \"opt4\": \"Applies activation functions\"}, {\"question\": \"What is the purpose of hidden layers in a neural network?\", \"opt1\": \"Receive raw input data\", \"opt2\": \"Perform transformations on input data\", \"opt3\": \"Produce the final output\", \"opt4\": \"Connect the input and output layers directly\"}, {\"question\": \"What is the role of the output layer in a neural network?\", \"opt1\": \"Receives raw input data\", \"opt2\": \"Performs transformations on input data\", \"opt3\": \"Produces the network's predictions\", \"opt4\": \"Connects to hidden layers\"}, {\"question\": \"What are activation functions in a neural network?\", \"opt1\": \"Mathematical functions applied to the weighted sum of inputs\", \"opt2\": \"Methods for training the network\", \"opt3\": \"Types of neural network architectures\", \"opt4\": \"Methods for data preprocessing\"}, {\"question\": \"What is backpropagation?\", \"opt1\": \"A method for data preprocessing\", \"opt2\": \"An activation function\", \"opt3\": \"A method for adjusting network weights during training\", \"opt4\": \"A type of neural network architecture\"}, {\"question\": \"What is gradient descent?\", \"opt1\": \"An activation function\", \"opt2\": \"A method for data preprocessing\", \"opt3\": \"A method for minimizing the difference between predicted and actual outputs\", \"opt4\": \"A type of neural network architecture\"}, {\"question\": \"What is the key difference between a shallow neural network and a deep neural network?\", \"opt1\": \"Shallow networks use fewer activation functions\", \"opt2\": \"Deep networks use more hidden layers\", \"opt3\": \"Shallow networks are faster to train\", \"opt4\": \"Deep networks are less prone to overfitting\"}, {\"question\": \"What does the term 'deep' refer to in 'deep learning'?\", \"opt1\": \"The complexity of the algorithms\", \"opt2\": \"The large amount of data needed\", \"opt3\": \"The depth of a neural network (number of hidden layers)\", \"opt4\": \"The high computational cost\"}, {\"question\": \"In the context of deep learning, what is the process of training a deep neural network called?\", \"opt1\": \"Gradient descent\", \"opt2\": \"Backpropagation\", \"opt3\": \"Deep learning\", \"opt4\": \"Activation function\"}, {\"question\": \"Which of the following is NOT a typical component of a recurrent neural network (RNN)?\", \"opt1\": \"Input layer\", \"opt2\": \"Hidden layer\", \"opt3\": \"Output layer\", \"opt4\": \"Convolutional layer\"}, {\"question\": \"Why is the choice of activation function important in a neural network?\", \"opt1\": \"It determines the network's architecture\", \"opt2\": \"It determines how the weights are updated during training\", \"opt3\": \"It introduces non-linearity, enabling the network to learn complex patterns\", \"opt4\": \"It determines the size of the input and output layers\"}, {\"question\": \"Which of the following is NOT a common activation function?\", \"opt1\": \"Sigmoid\", \"opt2\": \"ReLU\", \"opt3\": \"Tanh\", \"opt4\": \"Backpropagation\"}, {\"question\": \"What is a key benefit of using multiple hidden layers in a deep neural network?\", \"opt1\": \"Increased training speed\", \"opt2\": \"Reduced computational cost\", \"opt3\": \"Ability to learn more complex patterns\", \"opt4\": \"Simpler network architecture\"}, {\"question\": \"What is a potential drawback of using a deep neural network?\", \"opt1\": \"Can be computationally expensive to train\", \"opt2\": \"Prone to overfitting with limited data\", \"opt3\": \"Can be difficult to interpret the results\", \"opt4\": \"All of the above\"}]\n",
    "answers = [{\"question\": \"In a neural network, what are layers responsible for?\", \"answer\": \"All of the above\", \"explanation\": \"Layers organize and process data, connect neurons, and handle input and output.\"}, {\"question\": \"What is the role of the input layer in a neural network?\", \"answer\": \"Receives raw input data\", \"explanation\": \"The input layer receives the raw input data that will be processed by the network.\"}, {\"question\": \"What is the purpose of hidden layers in a neural network?\", \"answer\": \"Perform transformations on input data\", \"explanation\": \"Hidden layers perform a series of transformations on the input data through weighted connections between nodes.\"}, {\"question\": \"What is the role of the output layer in a neural network?\", \"answer\": \"Produces the network's predictions\", \"explanation\": \"The output layer generates the final output of the neural network based on the processing performed by the hidden layers.\"}, {\"question\": \"What are activation functions in a neural network?\", \"answer\": \"Mathematical functions applied to the weighted sum of inputs\", \"explanation\": \"Activation functions introduce non-linearity and help determine whether a node is activated and produces an output.\"}, {\"question\": \"What is backpropagation?\", \"answer\": \"A method for adjusting network weights during training\", \"explanation\": \"Backpropagation is an algorithm used to adjust the network's weights during training to minimize the error.\"}, {\"question\": \"What is gradient descent?\", \"answer\": \"A method for minimizing the difference between predicted and actual outputs\", \"explanation\": \"Gradient descent is an optimization algorithm that iteratively adjusts the model parameters to minimize the loss function.\"}, {\"question\": \"What is the key difference between a shallow neural network and a deep neural network?\", \"answer\": \"Deep networks use more hidden layers\", \"explanation\": \"The key difference lies in the number of hidden layers; deep neural networks have two or more hidden layers.\"}, {\"question\": \"What does the term 'deep' refer to in 'deep learning'?\", \"answer\": \"The depth of a neural network (number of hidden layers)\", \"explanation\": \"The term 'deep' in deep learning refers to the number of hidden layers in a neural network.\"}, {\"question\": \"In the context of deep learning, what is the process of training a deep neural network called?\", \"answer\": \"Deep learning\", \"explanation\": \"The process of training deep neural networks is called deep learning.\"}, {\"question\": \"Which of the following is NOT a typical component of a recurrent neural network (RNN)?\", \"answer\": \"Convolutional layer\", \"explanation\": \"RNNs utilize recurrent connections, not convolutional layers, to process sequential data.\"}, {\"question\": \"Why is the choice of activation function important in a neural network?\", \"answer\": \"It introduces non-linearity, enabling the network to learn complex patterns\", \"explanation\": \"Activation functions are crucial for introducing non-linearity, which enables the network to learn complex and non-linear relationships in data.\"}, {\"question\": \"Which of the following is NOT a common activation function?\", \"answer\": \"Backpropagation\", \"explanation\": \"Backpropagation is a training algorithm, not an activation function.\"}, {\"question\": \"What is a key benefit of using multiple hidden layers in a deep neural network?\", \"answer\": \"Ability to learn more complex patterns\", \"explanation\": \"Multiple hidden layers enable deep neural networks to learn more complex and hierarchical patterns in data.\"}, {\"question\": \"What is a potential drawback of using a deep neural network?\", \"answer\": \"All of the above\", \"explanation\": \"Deep neural networks can be computationally intensive to train, susceptible to overfitting, and difficult to interpret.\"}]"
   ]
  },
  {
   "cell_type": "code",
   "execution_count": 2,
   "metadata": {},
   "outputs": [
    {
     "data": {
      "text/plain": [
       "(15, 15)"
      ]
     },
     "execution_count": 2,
     "metadata": {},
     "output_type": "execute_result"
    }
   ],
   "source": [
    "len(mcq), len(answers)"
   ]
  },
  {
   "cell_type": "code",
   "execution_count": 4,
   "metadata": {},
   "outputs": [
    {
     "data": {
      "text/plain": [
       "{'question': 'In a neural network, what are layers responsible for?',\n",
       " 'opt1': 'Organizing and processing data',\n",
       " 'opt2': 'Connecting individual neurons',\n",
       " 'opt3': 'Providing input and output',\n",
       " 'opt4': 'All of the above'}"
      ]
     },
     "execution_count": 4,
     "metadata": {},
     "output_type": "execute_result"
    }
   ],
   "source": [
    "mcq[0]"
   ]
  },
  {
   "cell_type": "code",
   "execution_count": 5,
   "metadata": {},
   "outputs": [
    {
     "data": {
      "text/plain": [
       "{'question': 'In a neural network, what are layers responsible for?',\n",
       " 'answer': 'All of the above',\n",
       " 'explanation': 'Layers organize and process data, connect neurons, and handle input and output.'}"
      ]
     },
     "execution_count": 5,
     "metadata": {},
     "output_type": "execute_result"
    }
   ],
   "source": [
    "answers[0]"
   ]
  },
  {
   "cell_type": "code",
   "execution_count": 6,
   "metadata": {},
   "outputs": [
    {
     "data": {
      "text/plain": [
       "{'question': 'What is the role of the input layer in a neural network?',\n",
       " 'opt1': 'Processes intermediate data',\n",
       " 'opt2': 'Receives raw input data',\n",
       " 'opt3': 'Produces the final output',\n",
       " 'opt4': 'Applies activation functions'}"
      ]
     },
     "execution_count": 6,
     "metadata": {},
     "output_type": "execute_result"
    }
   ],
   "source": [
    "mcq[1]"
   ]
  },
  {
   "cell_type": "code",
   "execution_count": 7,
   "metadata": {},
   "outputs": [
    {
     "data": {
      "text/plain": [
       "{'question': 'What is the role of the input layer in a neural network?',\n",
       " 'answer': 'Receives raw input data',\n",
       " 'explanation': 'The input layer receives the raw input data that will be processed by the network.'}"
      ]
     },
     "execution_count": 7,
     "metadata": {},
     "output_type": "execute_result"
    }
   ],
   "source": [
    "answers[1]"
   ]
  },
  {
   "cell_type": "code",
   "execution_count": 8,
   "metadata": {},
   "outputs": [
    {
     "data": {
      "text/plain": [
       "{'question': 'What is the purpose of hidden layers in a neural network?',\n",
       " 'opt1': 'Receive raw input data',\n",
       " 'opt2': 'Perform transformations on input data',\n",
       " 'opt3': 'Produce the final output',\n",
       " 'opt4': 'Connect the input and output layers directly'}"
      ]
     },
     "execution_count": 8,
     "metadata": {},
     "output_type": "execute_result"
    }
   ],
   "source": [
    "mcq[2]"
   ]
  },
  {
   "cell_type": "code",
   "execution_count": 9,
   "metadata": {},
   "outputs": [
    {
     "data": {
      "text/plain": [
       "{'question': 'What is the purpose of hidden layers in a neural network?',\n",
       " 'answer': 'Perform transformations on input data',\n",
       " 'explanation': 'Hidden layers perform a series of transformations on the input data through weighted connections between nodes.'}"
      ]
     },
     "execution_count": 9,
     "metadata": {},
     "output_type": "execute_result"
    }
   ],
   "source": [
    "answers[2]"
   ]
  },
  {
   "cell_type": "code",
   "execution_count": 10,
   "metadata": {},
   "outputs": [
    {
     "data": {
      "text/plain": [
       "{'question': 'What is the role of the output layer in a neural network?',\n",
       " 'opt1': 'Receives raw input data',\n",
       " 'opt2': 'Performs transformations on input data',\n",
       " 'opt3': \"Produces the network's predictions\",\n",
       " 'opt4': 'Connects to hidden layers'}"
      ]
     },
     "execution_count": 10,
     "metadata": {},
     "output_type": "execute_result"
    }
   ],
   "source": [
    "mcq[3]"
   ]
  },
  {
   "cell_type": "code",
   "execution_count": 11,
   "metadata": {},
   "outputs": [
    {
     "data": {
      "text/plain": [
       "{'question': 'What is the role of the output layer in a neural network?',\n",
       " 'answer': \"Produces the network's predictions\",\n",
       " 'explanation': 'The output layer generates the final output of the neural network based on the processing performed by the hidden layers.'}"
      ]
     },
     "execution_count": 11,
     "metadata": {},
     "output_type": "execute_result"
    }
   ],
   "source": [
    "answers[3]"
   ]
  },
  {
   "cell_type": "code",
   "execution_count": 12,
   "metadata": {},
   "outputs": [
    {
     "data": {
      "text/plain": [
       "{'question': 'What are activation functions in a neural network?',\n",
       " 'opt1': 'Mathematical functions applied to the weighted sum of inputs',\n",
       " 'opt2': 'Methods for training the network',\n",
       " 'opt3': 'Types of neural network architectures',\n",
       " 'opt4': 'Methods for data preprocessing'}"
      ]
     },
     "execution_count": 12,
     "metadata": {},
     "output_type": "execute_result"
    }
   ],
   "source": [
    "mcq[4]"
   ]
  },
  {
   "cell_type": "code",
   "execution_count": 13,
   "metadata": {},
   "outputs": [
    {
     "data": {
      "text/plain": [
       "{'question': 'What are activation functions in a neural network?',\n",
       " 'answer': 'Mathematical functions applied to the weighted sum of inputs',\n",
       " 'explanation': 'Activation functions introduce non-linearity and help determine whether a node is activated and produces an output.'}"
      ]
     },
     "execution_count": 13,
     "metadata": {},
     "output_type": "execute_result"
    }
   ],
   "source": [
    "answers[4]"
   ]
  },
  {
   "cell_type": "code",
   "execution_count": 14,
   "metadata": {},
   "outputs": [
    {
     "data": {
      "text/plain": [
       "{'question': 'What is backpropagation?',\n",
       " 'opt1': 'A method for data preprocessing',\n",
       " 'opt2': 'An activation function',\n",
       " 'opt3': 'A method for adjusting network weights during training',\n",
       " 'opt4': 'A type of neural network architecture'}"
      ]
     },
     "execution_count": 14,
     "metadata": {},
     "output_type": "execute_result"
    }
   ],
   "source": [
    "mcq[5]"
   ]
  },
  {
   "cell_type": "code",
   "execution_count": 15,
   "metadata": {},
   "outputs": [
    {
     "data": {
      "text/plain": [
       "{'question': 'What is backpropagation?',\n",
       " 'answer': 'A method for adjusting network weights during training',\n",
       " 'explanation': \"Backpropagation is an algorithm used to adjust the network's weights during training to minimize the error.\"}"
      ]
     },
     "execution_count": 15,
     "metadata": {},
     "output_type": "execute_result"
    }
   ],
   "source": [
    "answers[5]"
   ]
  },
  {
   "cell_type": "code",
   "execution_count": 16,
   "metadata": {},
   "outputs": [
    {
     "data": {
      "text/plain": [
       "{'question': 'What is gradient descent?',\n",
       " 'opt1': 'An activation function',\n",
       " 'opt2': 'A method for data preprocessing',\n",
       " 'opt3': 'A method for minimizing the difference between predicted and actual outputs',\n",
       " 'opt4': 'A type of neural network architecture'}"
      ]
     },
     "execution_count": 16,
     "metadata": {},
     "output_type": "execute_result"
    }
   ],
   "source": [
    "mcq[6]"
   ]
  },
  {
   "cell_type": "code",
   "execution_count": 17,
   "metadata": {},
   "outputs": [
    {
     "data": {
      "text/plain": [
       "{'question': 'What is gradient descent?',\n",
       " 'answer': 'A method for minimizing the difference between predicted and actual outputs',\n",
       " 'explanation': 'Gradient descent is an optimization algorithm that iteratively adjusts the model parameters to minimize the loss function.'}"
      ]
     },
     "execution_count": 17,
     "metadata": {},
     "output_type": "execute_result"
    }
   ],
   "source": [
    "answers[6]"
   ]
  },
  {
   "cell_type": "code",
   "execution_count": 18,
   "metadata": {},
   "outputs": [
    {
     "data": {
      "text/plain": [
       "{'question': 'What is the key difference between a shallow neural network and a deep neural network?',\n",
       " 'opt1': 'Shallow networks use fewer activation functions',\n",
       " 'opt2': 'Deep networks use more hidden layers',\n",
       " 'opt3': 'Shallow networks are faster to train',\n",
       " 'opt4': 'Deep networks are less prone to overfitting'}"
      ]
     },
     "execution_count": 18,
     "metadata": {},
     "output_type": "execute_result"
    }
   ],
   "source": [
    "mcq[7]"
   ]
  },
  {
   "cell_type": "code",
   "execution_count": 19,
   "metadata": {},
   "outputs": [
    {
     "data": {
      "text/plain": [
       "{'question': 'What is the key difference between a shallow neural network and a deep neural network?',\n",
       " 'answer': 'Deep networks use more hidden layers',\n",
       " 'explanation': 'The key difference lies in the number of hidden layers; deep neural networks have two or more hidden layers.'}"
      ]
     },
     "execution_count": 19,
     "metadata": {},
     "output_type": "execute_result"
    }
   ],
   "source": [
    "answers[7]"
   ]
  },
  {
   "cell_type": "code",
   "execution_count": 20,
   "metadata": {},
   "outputs": [
    {
     "data": {
      "text/plain": [
       "{'question': \"What does the term 'deep' refer to in 'deep learning'?\",\n",
       " 'opt1': 'The complexity of the algorithms',\n",
       " 'opt2': 'The large amount of data needed',\n",
       " 'opt3': 'The depth of a neural network (number of hidden layers)',\n",
       " 'opt4': 'The high computational cost'}"
      ]
     },
     "execution_count": 20,
     "metadata": {},
     "output_type": "execute_result"
    }
   ],
   "source": [
    "mcq[8]"
   ]
  },
  {
   "cell_type": "code",
   "execution_count": 21,
   "metadata": {},
   "outputs": [
    {
     "data": {
      "text/plain": [
       "{'question': \"What does the term 'deep' refer to in 'deep learning'?\",\n",
       " 'answer': 'The depth of a neural network (number of hidden layers)',\n",
       " 'explanation': \"The term 'deep' in deep learning refers to the number of hidden layers in a neural network.\"}"
      ]
     },
     "execution_count": 21,
     "metadata": {},
     "output_type": "execute_result"
    }
   ],
   "source": [
    "answers[8]"
   ]
  },
  {
   "cell_type": "code",
   "execution_count": 22,
   "metadata": {},
   "outputs": [
    {
     "data": {
      "text/plain": [
       "{'question': 'In the context of deep learning, what is the process of training a deep neural network called?',\n",
       " 'opt1': 'Gradient descent',\n",
       " 'opt2': 'Backpropagation',\n",
       " 'opt3': 'Deep learning',\n",
       " 'opt4': 'Activation function'}"
      ]
     },
     "execution_count": 22,
     "metadata": {},
     "output_type": "execute_result"
    }
   ],
   "source": [
    "mcq[9]"
   ]
  },
  {
   "cell_type": "code",
   "execution_count": 23,
   "metadata": {},
   "outputs": [
    {
     "data": {
      "text/plain": [
       "{'question': 'In the context of deep learning, what is the process of training a deep neural network called?',\n",
       " 'answer': 'Deep learning',\n",
       " 'explanation': 'The process of training deep neural networks is called deep learning.'}"
      ]
     },
     "execution_count": 23,
     "metadata": {},
     "output_type": "execute_result"
    }
   ],
   "source": [
    "answers[9]"
   ]
  },
  {
   "cell_type": "code",
   "execution_count": 24,
   "metadata": {},
   "outputs": [
    {
     "data": {
      "text/plain": [
       "{'question': 'Which of the following is NOT a typical component of a recurrent neural network (RNN)?',\n",
       " 'opt1': 'Input layer',\n",
       " 'opt2': 'Hidden layer',\n",
       " 'opt3': 'Output layer',\n",
       " 'opt4': 'Convolutional layer'}"
      ]
     },
     "execution_count": 24,
     "metadata": {},
     "output_type": "execute_result"
    }
   ],
   "source": [
    "mcq[10]"
   ]
  },
  {
   "cell_type": "code",
   "execution_count": 25,
   "metadata": {},
   "outputs": [
    {
     "data": {
      "text/plain": [
       "{'question': 'Which of the following is NOT a typical component of a recurrent neural network (RNN)?',\n",
       " 'answer': 'Convolutional layer',\n",
       " 'explanation': 'RNNs utilize recurrent connections, not convolutional layers, to process sequential data.'}"
      ]
     },
     "execution_count": 25,
     "metadata": {},
     "output_type": "execute_result"
    }
   ],
   "source": [
    "answers[10]"
   ]
  },
  {
   "cell_type": "code",
   "execution_count": 26,
   "metadata": {},
   "outputs": [
    {
     "data": {
      "text/plain": [
       "{'question': 'Why is the choice of activation function important in a neural network?',\n",
       " 'opt1': \"It determines the network's architecture\",\n",
       " 'opt2': 'It determines how the weights are updated during training',\n",
       " 'opt3': 'It introduces non-linearity, enabling the network to learn complex patterns',\n",
       " 'opt4': 'It determines the size of the input and output layers'}"
      ]
     },
     "execution_count": 26,
     "metadata": {},
     "output_type": "execute_result"
    }
   ],
   "source": [
    "mcq[11]"
   ]
  },
  {
   "cell_type": "code",
   "execution_count": 27,
   "metadata": {},
   "outputs": [
    {
     "data": {
      "text/plain": [
       "{'question': 'Why is the choice of activation function important in a neural network?',\n",
       " 'answer': 'It introduces non-linearity, enabling the network to learn complex patterns',\n",
       " 'explanation': 'Activation functions are crucial for introducing non-linearity, which enables the network to learn complex and non-linear relationships in data.'}"
      ]
     },
     "execution_count": 27,
     "metadata": {},
     "output_type": "execute_result"
    }
   ],
   "source": [
    "answers[11]"
   ]
  },
  {
   "cell_type": "code",
   "execution_count": 28,
   "metadata": {},
   "outputs": [
    {
     "data": {
      "text/plain": [
       "{'question': 'Which of the following is NOT a common activation function?',\n",
       " 'opt1': 'Sigmoid',\n",
       " 'opt2': 'ReLU',\n",
       " 'opt3': 'Tanh',\n",
       " 'opt4': 'Backpropagation'}"
      ]
     },
     "execution_count": 28,
     "metadata": {},
     "output_type": "execute_result"
    }
   ],
   "source": [
    "mcq[12]"
   ]
  },
  {
   "cell_type": "code",
   "execution_count": 29,
   "metadata": {},
   "outputs": [
    {
     "data": {
      "text/plain": [
       "{'question': 'Which of the following is NOT a common activation function?',\n",
       " 'answer': 'Backpropagation',\n",
       " 'explanation': 'Backpropagation is a training algorithm, not an activation function.'}"
      ]
     },
     "execution_count": 29,
     "metadata": {},
     "output_type": "execute_result"
    }
   ],
   "source": [
    "answers[12]"
   ]
  },
  {
   "cell_type": "code",
   "execution_count": 30,
   "metadata": {},
   "outputs": [
    {
     "data": {
      "text/plain": [
       "{'question': 'What is a key benefit of using multiple hidden layers in a deep neural network?',\n",
       " 'opt1': 'Increased training speed',\n",
       " 'opt2': 'Reduced computational cost',\n",
       " 'opt3': 'Ability to learn more complex patterns',\n",
       " 'opt4': 'Simpler network architecture'}"
      ]
     },
     "execution_count": 30,
     "metadata": {},
     "output_type": "execute_result"
    }
   ],
   "source": [
    "mcq[13]"
   ]
  },
  {
   "cell_type": "code",
   "execution_count": 31,
   "metadata": {},
   "outputs": [
    {
     "data": {
      "text/plain": [
       "{'question': 'What is a key benefit of using multiple hidden layers in a deep neural network?',\n",
       " 'answer': 'Ability to learn more complex patterns',\n",
       " 'explanation': 'Multiple hidden layers enable deep neural networks to learn more complex and hierarchical patterns in data.'}"
      ]
     },
     "execution_count": 31,
     "metadata": {},
     "output_type": "execute_result"
    }
   ],
   "source": [
    "answers[13]"
   ]
  },
  {
   "cell_type": "code",
   "execution_count": 32,
   "metadata": {},
   "outputs": [
    {
     "data": {
      "text/plain": [
       "{'question': 'What is a potential drawback of using a deep neural network?',\n",
       " 'opt1': 'Can be computationally expensive to train',\n",
       " 'opt2': 'Prone to overfitting with limited data',\n",
       " 'opt3': 'Can be difficult to interpret the results',\n",
       " 'opt4': 'All of the above'}"
      ]
     },
     "execution_count": 32,
     "metadata": {},
     "output_type": "execute_result"
    }
   ],
   "source": [
    "mcq[14]"
   ]
  },
  {
   "cell_type": "code",
   "execution_count": 33,
   "metadata": {},
   "outputs": [
    {
     "data": {
      "text/plain": [
       "{'question': 'What is a potential drawback of using a deep neural network?',\n",
       " 'answer': 'All of the above',\n",
       " 'explanation': 'Deep neural networks can be computationally intensive to train, susceptible to overfitting, and difficult to interpret.'}"
      ]
     },
     "execution_count": 33,
     "metadata": {},
     "output_type": "execute_result"
    }
   ],
   "source": [
    "answers[14]"
   ]
  },
  {
   "cell_type": "code",
   "execution_count": null,
   "metadata": {},
   "outputs": [],
   "source": []
  }
 ],
 "metadata": {
  "kernelspec": {
   "display_name": "venv",
   "language": "python",
   "name": "python3"
  },
  "language_info": {
   "codemirror_mode": {
    "name": "ipython",
    "version": 3
   },
   "file_extension": ".py",
   "mimetype": "text/x-python",
   "name": "python",
   "nbconvert_exporter": "python",
   "pygments_lexer": "ipython3",
   "version": "3.12.4"
  }
 },
 "nbformat": 4,
 "nbformat_minor": 2
}

{
 "cells": [
  {
   "cell_type": "code",
   "execution_count": 15,
   "metadata": {},
   "outputs": [],
   "source": [
    "mcq = [{\"question\": \"Which of the following is NOT a characteristic of supervised machine learning?\", \"opt1\": \"Uses labeled data for training\", \"opt2\": \"Predicts outcomes based on input data\", \"opt3\": \"Discovers hidden patterns in unlabeled data\", \"opt4\": \"Evaluates model performance using metrics like accuracy\"}, {\"question\": \"What is the main difference between discriminative and generative models?\", \"opt1\": \"Discriminative models classify data, generative models create new data\", \"opt2\": \"Discriminative models are simpler, generative models are more complex\", \"opt3\": \"Discriminative models use labeled data, generative models use unlabeled data\", \"opt4\": \"Discriminative models are faster, generative models are slower\"}, {\"question\": \"Which of the following is an example of an unsupervised learning task?\", \"opt1\": \"Image classification\", \"opt2\": \"Spam detection\", \"opt3\": \"Customer segmentation\", \"opt4\": \"Sentiment analysis\"}, {\"question\": \"In the context of deep learning, what does the term 'deep' refer to?\", \"opt1\": \"The complexity of the algorithms used\", \"opt2\": \"The amount of data required for training\", \"opt3\": \"The number of hidden layers in the neural network\", \"opt4\": \"The speed of processing\"}, {\"question\": \"Which of the following is NOT a benefit of using deep learning models?\", \"opt1\": \"Ability to process complex patterns\", \"opt2\": \"Requires less data for training than traditional machine learning\", \"opt3\": \"Can be computationally expensive to train\", \"opt4\": \"Superior performance on complex tasks\"}, {\"question\": \"Which of the following is NOT considered a deep learning model?\", \"opt1\": \"Convolutional Neural Network (CNN)\", \"opt2\": \"Recurrent Neural Network (RNN)\", \"opt3\": \"Linear Regression\", \"opt4\": \"Generative Adversarial Network (GAN)\"}, {\"question\": \"What is a key advantage of using generative AI models?\", \"opt1\": \"They can be used to classify data into categories\", \"opt2\": \"They are faster and less computationally expensive than discriminative models\", \"opt3\": \"They can create new, original data that resembles the training data\", \"opt4\": \"They are easier to train than discriminative models\"}]\n",
    "answers = [{\"question\": \"Which of the following is NOT a characteristic of supervised machine learning?\", \"answer\": \"Discovers hidden patterns in unlabeled data\", \"explanation\": \"Discovering hidden patterns is a characteristic of unsupervised learning, not supervised learning.\"}, {\"question\": \"What is the main difference between discriminative and generative models?\", \"answer\": \"Discriminative models classify data, generative models create new data\", \"explanation\": \"Discriminative models focus on learning the relationship between inputs and outputs for classification or prediction, while generative models learn the underlying data distribution to create new data points.\"}, {\"question\": \"Which of the following is an example of an unsupervised learning task?\", \"answer\": \"Customer segmentation\", \"explanation\": \"Customer segmentation aims to group customers into clusters based on their characteristics without pre-defined labels, making it an unsupervised learning task.\"}, {\"question\": \"In the context of deep learning, what does the term 'deep' refer to?\", \"answer\": \"The number of hidden layers in the neural network\", \"explanation\": \"The term 'deep' in deep learning refers to the number of hidden layers in the neural network's architecture.\"}, {\"question\": \"Which of the following is NOT a benefit of using deep learning models?\", \"answer\": \"Requires less data for training than traditional machine learning\", \"explanation\": \"Deep learning models generally require significantly larger datasets for training compared to traditional machine learning techniques.\"}, {\"question\": \"Which of the following is NOT considered a deep learning model?\", \"answer\": \"Linear Regression\", \"explanation\": \"Linear regression is a traditional machine learning algorithm, not a deep learning model.\"}, {\"question\": \"What is a key advantage of using generative AI models?\", \"answer\": \"They can create new, original data that resembles the training data\", \"explanation\": \"Generative AI models are designed to learn the underlying patterns and structures in data to generate new, similar data points.\"}]"
   ]
  },
  {
   "cell_type": "code",
   "execution_count": 16,
   "metadata": {},
   "outputs": [
    {
     "data": {
      "text/plain": [
       "(7, 7)"
      ]
     },
     "execution_count": 16,
     "metadata": {},
     "output_type": "execute_result"
    }
   ],
   "source": [
    "len(mcq), len(answers)"
   ]
  },
  {
   "cell_type": "code",
   "execution_count": 17,
   "metadata": {},
   "outputs": [
    {
     "data": {
      "text/plain": [
       "{'question': 'Which of the following is NOT a characteristic of supervised machine learning?',\n",
       " 'opt1': 'Uses labeled data for training',\n",
       " 'opt2': 'Predicts outcomes based on input data',\n",
       " 'opt3': 'Discovers hidden patterns in unlabeled data',\n",
       " 'opt4': 'Evaluates model performance using metrics like accuracy'}"
      ]
     },
     "execution_count": 17,
     "metadata": {},
     "output_type": "execute_result"
    }
   ],
   "source": [
    "mcq[0]"
   ]
  },
  {
   "cell_type": "code",
   "execution_count": 18,
   "metadata": {},
   "outputs": [
    {
     "data": {
      "text/plain": [
       "{'question': 'Which of the following is NOT a characteristic of supervised machine learning?',\n",
       " 'answer': 'Discovers hidden patterns in unlabeled data',\n",
       " 'explanation': 'Discovering hidden patterns is a characteristic of unsupervised learning, not supervised learning.'}"
      ]
     },
     "execution_count": 18,
     "metadata": {},
     "output_type": "execute_result"
    }
   ],
   "source": [
    "answers[0]"
   ]
  },
  {
   "cell_type": "code",
   "execution_count": 19,
   "metadata": {},
   "outputs": [
    {
     "data": {
      "text/plain": [
       "{'question': 'What is the main difference between discriminative and generative models?',\n",
       " 'opt1': 'Discriminative models classify data, generative models create new data',\n",
       " 'opt2': 'Discriminative models are simpler, generative models are more complex',\n",
       " 'opt3': 'Discriminative models use labeled data, generative models use unlabeled data',\n",
       " 'opt4': 'Discriminative models are faster, generative models are slower'}"
      ]
     },
     "execution_count": 19,
     "metadata": {},
     "output_type": "execute_result"
    }
   ],
   "source": [
    "mcq[1]"
   ]
  },
  {
   "cell_type": "code",
   "execution_count": 21,
   "metadata": {},
   "outputs": [
    {
     "data": {
      "text/plain": [
       "{'question': 'What is the main difference between discriminative and generative models?',\n",
       " 'answer': 'Discriminative models classify data, generative models create new data',\n",
       " 'explanation': 'Discriminative models focus on learning the relationship between inputs and outputs for classification or prediction, while generative models learn the underlying data distribution to create new data points.'}"
      ]
     },
     "execution_count": 21,
     "metadata": {},
     "output_type": "execute_result"
    }
   ],
   "source": [
    "answers[1]"
   ]
  },
  {
   "cell_type": "code",
   "execution_count": 22,
   "metadata": {},
   "outputs": [
    {
     "data": {
      "text/plain": [
       "{'question': 'Which of the following is an example of an unsupervised learning task?',\n",
       " 'opt1': 'Image classification',\n",
       " 'opt2': 'Spam detection',\n",
       " 'opt3': 'Customer segmentation',\n",
       " 'opt4': 'Sentiment analysis'}"
      ]
     },
     "execution_count": 22,
     "metadata": {},
     "output_type": "execute_result"
    }
   ],
   "source": [
    "mcq[2]"
   ]
  },
  {
   "cell_type": "code",
   "execution_count": 23,
   "metadata": {},
   "outputs": [
    {
     "data": {
      "text/plain": [
       "{'question': 'Which of the following is an example of an unsupervised learning task?',\n",
       " 'answer': 'Customer segmentation',\n",
       " 'explanation': 'Customer segmentation aims to group customers into clusters based on their characteristics without pre-defined labels, making it an unsupervised learning task.'}"
      ]
     },
     "execution_count": 23,
     "metadata": {},
     "output_type": "execute_result"
    }
   ],
   "source": [
    "answers[2]"
   ]
  },
  {
   "cell_type": "code",
   "execution_count": 24,
   "metadata": {},
   "outputs": [
    {
     "data": {
      "text/plain": [
       "{'question': \"In the context of deep learning, what does the term 'deep' refer to?\",\n",
       " 'opt1': 'The complexity of the algorithms used',\n",
       " 'opt2': 'The amount of data required for training',\n",
       " 'opt3': 'The number of hidden layers in the neural network',\n",
       " 'opt4': 'The speed of processing'}"
      ]
     },
     "execution_count": 24,
     "metadata": {},
     "output_type": "execute_result"
    }
   ],
   "source": [
    "mcq[3]"
   ]
  },
  {
   "cell_type": "code",
   "execution_count": 25,
   "metadata": {},
   "outputs": [
    {
     "data": {
      "text/plain": [
       "{'question': \"In the context of deep learning, what does the term 'deep' refer to?\",\n",
       " 'answer': 'The number of hidden layers in the neural network',\n",
       " 'explanation': \"The term 'deep' in deep learning refers to the number of hidden layers in the neural network's architecture.\"}"
      ]
     },
     "execution_count": 25,
     "metadata": {},
     "output_type": "execute_result"
    }
   ],
   "source": [
    "answers[3]"
   ]
  },
  {
   "cell_type": "code",
   "execution_count": 26,
   "metadata": {},
   "outputs": [
    {
     "data": {
      "text/plain": [
       "{'question': 'Which of the following is NOT a benefit of using deep learning models?',\n",
       " 'opt1': 'Ability to process complex patterns',\n",
       " 'opt2': 'Requires less data for training than traditional machine learning',\n",
       " 'opt3': 'Can be computationally expensive to train',\n",
       " 'opt4': 'Superior performance on complex tasks'}"
      ]
     },
     "execution_count": 26,
     "metadata": {},
     "output_type": "execute_result"
    }
   ],
   "source": [
    "mcq[4]"
   ]
  },
  {
   "cell_type": "code",
   "execution_count": 27,
   "metadata": {},
   "outputs": [
    {
     "data": {
      "text/plain": [
       "{'question': 'Which of the following is NOT considered a deep learning model?',\n",
       " 'opt1': 'Convolutional Neural Network (CNN)',\n",
       " 'opt2': 'Recurrent Neural Network (RNN)',\n",
       " 'opt3': 'Linear Regression',\n",
       " 'opt4': 'Generative Adversarial Network (GAN)'}"
      ]
     },
     "execution_count": 27,
     "metadata": {},
     "output_type": "execute_result"
    }
   ],
   "source": [
    "mcq[5]"
   ]
  },
  {
   "cell_type": "code",
   "execution_count": 28,
   "metadata": {},
   "outputs": [
    {
     "data": {
      "text/plain": [
       "{'question': 'Which of the following is NOT considered a deep learning model?',\n",
       " 'answer': 'Linear Regression',\n",
       " 'explanation': 'Linear regression is a traditional machine learning algorithm, not a deep learning model.'}"
      ]
     },
     "execution_count": 28,
     "metadata": {},
     "output_type": "execute_result"
    }
   ],
   "source": [
    "answers[5]"
   ]
  },
  {
   "cell_type": "code",
   "execution_count": 29,
   "metadata": {},
   "outputs": [
    {
     "data": {
      "text/plain": [
       "{'question': 'What is a key advantage of using generative AI models?',\n",
       " 'opt1': 'They can be used to classify data into categories',\n",
       " 'opt2': 'They are faster and less computationally expensive than discriminative models',\n",
       " 'opt3': 'They can create new, original data that resembles the training data',\n",
       " 'opt4': 'They are easier to train than discriminative models'}"
      ]
     },
     "execution_count": 29,
     "metadata": {},
     "output_type": "execute_result"
    }
   ],
   "source": [
    "mcq[6]"
   ]
  },
  {
   "cell_type": "code",
   "execution_count": 31,
   "metadata": {},
   "outputs": [
    {
     "data": {
      "text/plain": [
       "{'question': 'What is a key advantage of using generative AI models?',\n",
       " 'answer': 'They can create new, original data that resembles the training data',\n",
       " 'explanation': 'Generative AI models are designed to learn the underlying patterns and structures in data to generate new, similar data points.'}"
      ]
     },
     "execution_count": 31,
     "metadata": {},
     "output_type": "execute_result"
    }
   ],
   "source": [
    "answers[6]"
   ]
  },
  {
   "cell_type": "code",
   "execution_count": null,
   "metadata": {},
   "outputs": [],
   "source": []
  }
 ],
 "metadata": {
  "kernelspec": {
   "display_name": "venv",
   "language": "python",
   "name": "python3"
  },
  "language_info": {
   "codemirror_mode": {
    "name": "ipython",
    "version": 3
   },
   "file_extension": ".py",
   "mimetype": "text/x-python",
   "name": "python",
   "nbconvert_exporter": "python",
   "pygments_lexer": "ipython3",
   "version": "3.12.4"
  }
 },
 "nbformat": 4,
 "nbformat_minor": 2
}

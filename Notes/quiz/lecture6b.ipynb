{
 "cells": [
  {
   "cell_type": "code",
   "execution_count": 1,
   "metadata": {},
   "outputs": [],
   "source": [
    "mcq=[{\"question\": \"What is the primary application domain for Convolutional Neural Networks (CNNs)?\", \"opt1\": \"Natural Language Processing\", \"opt2\": \"Time Series Analysis\", \"opt3\": \"Image processing\", \"opt4\": \"Reinforcement Learning\"}, {\"question\": \"Why must input images typically be rescaled to a uniform size before being fed into a CNN?\", \"opt1\": \"To reduce computational complexity\", \"opt2\": \"To ensure consistent input dimensions for all layers\", \"opt3\": \"To prevent overfitting\", \"opt4\": \"To improve the model's generalization ability\"}, {\"question\": \"What does the term 'channel' refer to in the context of image data for CNNs?\", \"opt1\": \"The height of an image\", \"opt2\": \"The width of an image\", \"opt3\": \"The color components of an image (e.g., R, G, B)\", \"opt4\": \"The number of pixels in an image\"}, {\"question\": \"In a fully connected network, how are neurons connected?\", \"opt1\": \"Each neuron is connected only to neurons in the same layer\", \"opt2\": \"Each neuron is connected to a subset of neurons in other layers\", \"opt3\": \"Each neuron is connected to all neurons in the previous layer\", \"opt4\": \"Connections are determined randomly\"}, {\"question\": \"What is a primary drawback of using fully connected layers in image processing?\", \"opt1\": \"Computational inefficiency\", \"opt2\": \"Increased risk of overfitting\", \"opt3\": \"Inability to capture spatial relationships\", \"opt4\": \"All of the above\"}, {\"question\": \"What does the term 'receptive field' refer to in the context of CNNs?\", \"opt1\": \"The entire input image\", \"opt2\": \"A specific region of the input image that a neuron processes\", \"opt3\": \"The spatial extent of a convolutional filter\", \"opt4\": \"The number of neurons in a layer\"}, {\"question\": \"What is the purpose of parameter sharing in CNNs?\", \"opt1\": \"To reduce the number of parameters in the network\", \"opt2\": \"To improve the network's ability to generalize\", \"opt3\": \"To allow neurons to detect patterns in different locations\", \"opt4\": \"All of the above\"}, {\"question\": \"What does the term 'stride' refer to in the context of convolutional operations?\", \"opt1\": \"The number of channels in the input\", \"opt2\": \"The size of the convolutional filter\", \"opt3\": \"The amount of overlap between receptive fields\", \"opt4\": \"The number of pixels the filter moves at each step\"}, {\"question\": \"What is the purpose of padding in convolutional operations?\", \"opt1\": \"To increase the size of the output feature maps\", \"opt2\": \"To prevent information loss at the edges of the input\", \"opt3\": \"To improve computational efficiency\", \"opt4\": \"To reduce overfitting\"}, {\"question\": \"What is a 'feature map' in the context of CNNs?\", \"opt1\": \"A visualization of the input image\", \"opt2\": \"A representation of the model's internal state\", \"opt3\": \"An output matrix resulting from a convolutional operation\", \"opt4\": \"A method for data preprocessing\"}, {\"question\": \"What is the main purpose of pooling operations in CNNs?\", \"opt1\": \"To increase the size of the feature maps\", \"opt2\": \"To reduce the dimensionality of feature maps\", \"opt3\": \"To add non-linearity to the network\", \"opt4\": \"To improve training speed\"}, {\"question\": \"What is a common type of pooling operation used in CNNs?\", \"opt1\": \"Average pooling\", \"opt2\": \"Max pooling\", \"opt3\": \"Median pooling\", \"opt4\": \"All of the above\"}, {\"question\": \"What is a convolutional transpose layer used for?\", \"opt1\": \"Downsampling feature maps\", \"opt2\": \"Upsampling feature maps\", \"opt3\": \"Reducing model complexity\", \"opt4\": \"Improving generalization\"}, {\"question\": \"What is the key difference between a convolutional layer and a fully connected layer?\", \"opt1\": \"Convolutional layers are computationally more efficient\", \"opt2\": \"Convolutional layers use parameter sharing\", \"opt3\": \"Convolutional layers preserve spatial relationships in the data\", \"opt4\": \"All of the above\"}]\n",
    "answers=[{\"question\": \"What is the primary application domain for Convolutional Neural Networks (CNNs)?\", \"answer\": \"Image processing\", \"explanation\": \"CNNs are particularly well-suited for image processing tasks due to their ability to handle spatial relationships in image data.\"}, {\"question\": \"Why must input images typically be rescaled to a uniform size before being fed into a CNN?\", \"answer\": \"To ensure consistent input dimensions for all layers\", \"explanation\": \"Consistent input dimensions are crucial for CNNs because convolutional operations require fixed-size input.\"}, {\"question\": \"What does the term 'channel' refer to in the context of image data for CNNs?\", \"answer\": \"The color components of an image (e.g., R, G, B)\", \"explanation\": \"In color images, each pixel has three values corresponding to red, green, and blue components, which are represented as channels.\"}, {\"question\": \"In a fully connected network, how are neurons connected?\", \"answer\": \"Each neuron is connected to all neurons in the previous layer\", \"explanation\": \"In a fully connected layer, every neuron is connected to every neuron in the preceding layer.\"}, {\"question\": \"What is a primary drawback of using fully connected layers in image processing?\", \"answer\": \"All of the above\", \"explanation\": \"Fully connected layers can be computationally expensive, prone to overfitting, and fail to capture spatial dependencies.\"}, {\"question\": \"What does the term 'receptive field' refer to in the context of CNNs?\", \"answer\": \"A specific region of the input image that a neuron processes\", \"explanation\": \"The receptive field is a specific area of the input image that a single neuron processes. This concept is central to how convolutional layers operate.\"}, {\"question\": \"What is the purpose of parameter sharing in CNNs?\", \"answer\": \"All of the above\", \"explanation\": \"Parameter sharing significantly reduces the number of parameters, improves generalization, and allows for detection of the same patterns in different image locations.\"}, {\"question\": \"What does the term 'stride' refer to in the context of convolutional operations?\", \"answer\": \"The number of pixels the filter moves at each step\", \"explanation\": \"The stride determines the number of pixels the convolutional filter moves at each step when scanning across the image.\"}, {\"question\": \"What is the purpose of padding in convolutional operations?\", \"answer\": \"To prevent information loss at the edges of the input\", \"explanation\": \"Padding adds extra pixels (usually zeros) to the borders of the image to prevent information loss and maintain output dimensions.\"}, {\"question\": \"What is a 'feature map' in the context of CNNs?\", \"answer\": \"An output matrix resulting from a convolutional operation\", \"explanation\": \"Feature maps are the output matrices resulting from convolutional operations. They represent the extracted features from the input data.\"}, {\"question\": \"What is the main purpose of pooling operations in CNNs?\", \"answer\": \"To reduce the dimensionality of feature maps\", \"explanation\": \"Pooling operations reduce the size of the feature maps to reduce computation and prevent overfitting.\"}, {\"question\": \"What is a common type of pooling operation used in CNNs?\", \"answer\": \"All of the above\", \"explanation\": \"Max pooling, average pooling, and median pooling are all common pooling operations.\"}, {\"question\": \"What is a convolutional transpose layer used for?\", \"answer\": \"Upsampling feature maps\", \"explanation\": \"Convolutional transpose layers upsample feature maps, effectively increasing their dimensions which is useful in tasks such as generating higher-resolution images.\"}, {\"question\": \"What is the key difference between a convolutional layer and a fully connected layer?\", \"answer\": \"All of the above\", \"explanation\": \"Convolutional layers are more efficient and better at capturing spatial relationships because they utilize parameter sharing and receptive fields while fully connected layers connect every neuron in one layer to every neuron in the next.\"}]"
   ]
  },
  {
   "cell_type": "code",
   "execution_count": 2,
   "metadata": {},
   "outputs": [
    {
     "data": {
      "text/plain": [
       "(14, 14)"
      ]
     },
     "execution_count": 2,
     "metadata": {},
     "output_type": "execute_result"
    }
   ],
   "source": [
    "len(mcq), len(answers)"
   ]
  },
  {
   "cell_type": "code",
   "execution_count": 4,
   "metadata": {},
   "outputs": [
    {
     "data": {
      "text/plain": [
       "{'question': 'What is the primary application domain for Convolutional Neural Networks (CNNs)?',\n",
       " 'opt1': 'Natural Language Processing',\n",
       " 'opt2': 'Time Series Analysis',\n",
       " 'opt3': 'Image processing',\n",
       " 'opt4': 'Reinforcement Learning'}"
      ]
     },
     "execution_count": 4,
     "metadata": {},
     "output_type": "execute_result"
    }
   ],
   "source": [
    "mcq[0]"
   ]
  },
  {
   "cell_type": "code",
   "execution_count": 5,
   "metadata": {},
   "outputs": [
    {
     "data": {
      "text/plain": [
       "{'question': 'What is the primary application domain for Convolutional Neural Networks (CNNs)?',\n",
       " 'answer': 'Image processing',\n",
       " 'explanation': 'CNNs are particularly well-suited for image processing tasks due to their ability to handle spatial relationships in image data.'}"
      ]
     },
     "execution_count": 5,
     "metadata": {},
     "output_type": "execute_result"
    }
   ],
   "source": [
    "answers[0]"
   ]
  },
  {
   "cell_type": "code",
   "execution_count": 6,
   "metadata": {},
   "outputs": [
    {
     "data": {
      "text/plain": [
       "{'question': 'Why must input images typically be rescaled to a uniform size before being fed into a CNN?',\n",
       " 'opt1': 'To reduce computational complexity',\n",
       " 'opt2': 'To ensure consistent input dimensions for all layers',\n",
       " 'opt3': 'To prevent overfitting',\n",
       " 'opt4': \"To improve the model's generalization ability\"}"
      ]
     },
     "execution_count": 6,
     "metadata": {},
     "output_type": "execute_result"
    }
   ],
   "source": [
    "mcq[1]"
   ]
  },
  {
   "cell_type": "code",
   "execution_count": 7,
   "metadata": {},
   "outputs": [
    {
     "data": {
      "text/plain": [
       "{'question': 'Why must input images typically be rescaled to a uniform size before being fed into a CNN?',\n",
       " 'answer': 'To ensure consistent input dimensions for all layers',\n",
       " 'explanation': 'Consistent input dimensions are crucial for CNNs because convolutional operations require fixed-size input.'}"
      ]
     },
     "execution_count": 7,
     "metadata": {},
     "output_type": "execute_result"
    }
   ],
   "source": [
    "answers[1]"
   ]
  },
  {
   "cell_type": "code",
   "execution_count": 8,
   "metadata": {},
   "outputs": [
    {
     "data": {
      "text/plain": [
       "{'question': \"What does the term 'channel' refer to in the context of image data for CNNs?\",\n",
       " 'opt1': 'The height of an image',\n",
       " 'opt2': 'The width of an image',\n",
       " 'opt3': 'The color components of an image (e.g., R, G, B)',\n",
       " 'opt4': 'The number of pixels in an image'}"
      ]
     },
     "execution_count": 8,
     "metadata": {},
     "output_type": "execute_result"
    }
   ],
   "source": [
    "mcq[2]"
   ]
  },
  {
   "cell_type": "code",
   "execution_count": 9,
   "metadata": {},
   "outputs": [
    {
     "data": {
      "text/plain": [
       "{'question': \"What does the term 'channel' refer to in the context of image data for CNNs?\",\n",
       " 'answer': 'The color components of an image (e.g., R, G, B)',\n",
       " 'explanation': 'In color images, each pixel has three values corresponding to red, green, and blue components, which are represented as channels.'}"
      ]
     },
     "execution_count": 9,
     "metadata": {},
     "output_type": "execute_result"
    }
   ],
   "source": [
    "answers[2]"
   ]
  },
  {
   "cell_type": "code",
   "execution_count": 10,
   "metadata": {},
   "outputs": [
    {
     "data": {
      "text/plain": [
       "{'question': 'In a fully connected network, how are neurons connected?',\n",
       " 'opt1': 'Each neuron is connected only to neurons in the same layer',\n",
       " 'opt2': 'Each neuron is connected to a subset of neurons in other layers',\n",
       " 'opt3': 'Each neuron is connected to all neurons in the previous layer',\n",
       " 'opt4': 'Connections are determined randomly'}"
      ]
     },
     "execution_count": 10,
     "metadata": {},
     "output_type": "execute_result"
    }
   ],
   "source": [
    "mcq[3]"
   ]
  },
  {
   "cell_type": "code",
   "execution_count": 11,
   "metadata": {},
   "outputs": [
    {
     "data": {
      "text/plain": [
       "{'question': 'In a fully connected network, how are neurons connected?',\n",
       " 'answer': 'Each neuron is connected to all neurons in the previous layer',\n",
       " 'explanation': 'In a fully connected layer, every neuron is connected to every neuron in the preceding layer.'}"
      ]
     },
     "execution_count": 11,
     "metadata": {},
     "output_type": "execute_result"
    }
   ],
   "source": [
    "answers[3]"
   ]
  },
  {
   "cell_type": "code",
   "execution_count": 12,
   "metadata": {},
   "outputs": [
    {
     "data": {
      "text/plain": [
       "{'question': 'What is a primary drawback of using fully connected layers in image processing?',\n",
       " 'opt1': 'Computational inefficiency',\n",
       " 'opt2': 'Increased risk of overfitting',\n",
       " 'opt3': 'Inability to capture spatial relationships',\n",
       " 'opt4': 'All of the above'}"
      ]
     },
     "execution_count": 12,
     "metadata": {},
     "output_type": "execute_result"
    }
   ],
   "source": [
    "mcq[4]"
   ]
  },
  {
   "cell_type": "code",
   "execution_count": 13,
   "metadata": {},
   "outputs": [
    {
     "data": {
      "text/plain": [
       "{'question': 'What is a primary drawback of using fully connected layers in image processing?',\n",
       " 'answer': 'All of the above',\n",
       " 'explanation': 'Fully connected layers can be computationally expensive, prone to overfitting, and fail to capture spatial dependencies.'}"
      ]
     },
     "execution_count": 13,
     "metadata": {},
     "output_type": "execute_result"
    }
   ],
   "source": [
    "answers[4]"
   ]
  },
  {
   "cell_type": "code",
   "execution_count": 14,
   "metadata": {},
   "outputs": [
    {
     "data": {
      "text/plain": [
       "{'question': \"What does the term 'receptive field' refer to in the context of CNNs?\",\n",
       " 'opt1': 'The entire input image',\n",
       " 'opt2': 'A specific region of the input image that a neuron processes',\n",
       " 'opt3': 'The spatial extent of a convolutional filter',\n",
       " 'opt4': 'The number of neurons in a layer'}"
      ]
     },
     "execution_count": 14,
     "metadata": {},
     "output_type": "execute_result"
    }
   ],
   "source": [
    "mcq[5]"
   ]
  },
  {
   "cell_type": "code",
   "execution_count": 15,
   "metadata": {},
   "outputs": [
    {
     "data": {
      "text/plain": [
       "{'question': \"What does the term 'receptive field' refer to in the context of CNNs?\",\n",
       " 'answer': 'A specific region of the input image that a neuron processes',\n",
       " 'explanation': 'The receptive field is a specific area of the input image that a single neuron processes. This concept is central to how convolutional layers operate.'}"
      ]
     },
     "execution_count": 15,
     "metadata": {},
     "output_type": "execute_result"
    }
   ],
   "source": [
    "answers[5]"
   ]
  },
  {
   "cell_type": "code",
   "execution_count": 16,
   "metadata": {},
   "outputs": [
    {
     "data": {
      "text/plain": [
       "{'question': 'What is the purpose of parameter sharing in CNNs?',\n",
       " 'opt1': 'To reduce the number of parameters in the network',\n",
       " 'opt2': \"To improve the network's ability to generalize\",\n",
       " 'opt3': 'To allow neurons to detect patterns in different locations',\n",
       " 'opt4': 'All of the above'}"
      ]
     },
     "execution_count": 16,
     "metadata": {},
     "output_type": "execute_result"
    }
   ],
   "source": [
    "mcq[6]"
   ]
  },
  {
   "cell_type": "code",
   "execution_count": 17,
   "metadata": {},
   "outputs": [
    {
     "data": {
      "text/plain": [
       "{'question': 'What is the purpose of parameter sharing in CNNs?',\n",
       " 'answer': 'All of the above',\n",
       " 'explanation': 'Parameter sharing significantly reduces the number of parameters, improves generalization, and allows for detection of the same patterns in different image locations.'}"
      ]
     },
     "execution_count": 17,
     "metadata": {},
     "output_type": "execute_result"
    }
   ],
   "source": [
    "answers[6]"
   ]
  },
  {
   "cell_type": "code",
   "execution_count": 18,
   "metadata": {},
   "outputs": [
    {
     "data": {
      "text/plain": [
       "{'question': \"What does the term 'stride' refer to in the context of convolutional operations?\",\n",
       " 'opt1': 'The number of channels in the input',\n",
       " 'opt2': 'The size of the convolutional filter',\n",
       " 'opt3': 'The amount of overlap between receptive fields',\n",
       " 'opt4': 'The number of pixels the filter moves at each step'}"
      ]
     },
     "execution_count": 18,
     "metadata": {},
     "output_type": "execute_result"
    }
   ],
   "source": [
    "mcq[7]"
   ]
  },
  {
   "cell_type": "code",
   "execution_count": 19,
   "metadata": {},
   "outputs": [
    {
     "data": {
      "text/plain": [
       "{'question': \"What does the term 'stride' refer to in the context of convolutional operations?\",\n",
       " 'answer': 'The number of pixels the filter moves at each step',\n",
       " 'explanation': 'The stride determines the number of pixels the convolutional filter moves at each step when scanning across the image.'}"
      ]
     },
     "execution_count": 19,
     "metadata": {},
     "output_type": "execute_result"
    }
   ],
   "source": [
    "answers[7]"
   ]
  },
  {
   "cell_type": "code",
   "execution_count": 20,
   "metadata": {},
   "outputs": [
    {
     "data": {
      "text/plain": [
       "{'question': 'What is the purpose of padding in convolutional operations?',\n",
       " 'opt1': 'To increase the size of the output feature maps',\n",
       " 'opt2': 'To prevent information loss at the edges of the input',\n",
       " 'opt3': 'To improve computational efficiency',\n",
       " 'opt4': 'To reduce overfitting'}"
      ]
     },
     "execution_count": 20,
     "metadata": {},
     "output_type": "execute_result"
    }
   ],
   "source": [
    "mcq[8]"
   ]
  },
  {
   "cell_type": "code",
   "execution_count": 21,
   "metadata": {},
   "outputs": [
    {
     "data": {
      "text/plain": [
       "{'question': 'What is the purpose of padding in convolutional operations?',\n",
       " 'answer': 'To prevent information loss at the edges of the input',\n",
       " 'explanation': 'Padding adds extra pixels (usually zeros) to the borders of the image to prevent information loss and maintain output dimensions.'}"
      ]
     },
     "execution_count": 21,
     "metadata": {},
     "output_type": "execute_result"
    }
   ],
   "source": [
    "answers[8]"
   ]
  },
  {
   "cell_type": "code",
   "execution_count": 22,
   "metadata": {},
   "outputs": [
    {
     "data": {
      "text/plain": [
       "{'question': \"What is a 'feature map' in the context of CNNs?\",\n",
       " 'opt1': 'A visualization of the input image',\n",
       " 'opt2': \"A representation of the model's internal state\",\n",
       " 'opt3': 'An output matrix resulting from a convolutional operation',\n",
       " 'opt4': 'A method for data preprocessing'}"
      ]
     },
     "execution_count": 22,
     "metadata": {},
     "output_type": "execute_result"
    }
   ],
   "source": [
    "mcq[9]"
   ]
  },
  {
   "cell_type": "code",
   "execution_count": 23,
   "metadata": {},
   "outputs": [
    {
     "data": {
      "text/plain": [
       "{'question': \"What is a 'feature map' in the context of CNNs?\",\n",
       " 'answer': 'An output matrix resulting from a convolutional operation',\n",
       " 'explanation': 'Feature maps are the output matrices resulting from convolutional operations. They represent the extracted features from the input data.'}"
      ]
     },
     "execution_count": 23,
     "metadata": {},
     "output_type": "execute_result"
    }
   ],
   "source": [
    "answers[9]"
   ]
  },
  {
   "cell_type": "code",
   "execution_count": 24,
   "metadata": {},
   "outputs": [
    {
     "data": {
      "text/plain": [
       "{'question': 'What is the main purpose of pooling operations in CNNs?',\n",
       " 'opt1': 'To increase the size of the feature maps',\n",
       " 'opt2': 'To reduce the dimensionality of feature maps',\n",
       " 'opt3': 'To add non-linearity to the network',\n",
       " 'opt4': 'To improve training speed'}"
      ]
     },
     "execution_count": 24,
     "metadata": {},
     "output_type": "execute_result"
    }
   ],
   "source": [
    "mcq[10]"
   ]
  },
  {
   "cell_type": "code",
   "execution_count": 25,
   "metadata": {},
   "outputs": [
    {
     "data": {
      "text/plain": [
       "{'question': 'What is the main purpose of pooling operations in CNNs?',\n",
       " 'answer': 'To reduce the dimensionality of feature maps',\n",
       " 'explanation': 'Pooling operations reduce the size of the feature maps to reduce computation and prevent overfitting.'}"
      ]
     },
     "execution_count": 25,
     "metadata": {},
     "output_type": "execute_result"
    }
   ],
   "source": [
    "answers[10]"
   ]
  },
  {
   "cell_type": "code",
   "execution_count": 26,
   "metadata": {},
   "outputs": [
    {
     "data": {
      "text/plain": [
       "{'question': 'What is a common type of pooling operation used in CNNs?',\n",
       " 'opt1': 'Average pooling',\n",
       " 'opt2': 'Max pooling',\n",
       " 'opt3': 'Median pooling',\n",
       " 'opt4': 'All of the above'}"
      ]
     },
     "execution_count": 26,
     "metadata": {},
     "output_type": "execute_result"
    }
   ],
   "source": [
    "mcq[11]"
   ]
  },
  {
   "cell_type": "code",
   "execution_count": 27,
   "metadata": {},
   "outputs": [
    {
     "data": {
      "text/plain": [
       "{'question': 'What is a common type of pooling operation used in CNNs?',\n",
       " 'answer': 'All of the above',\n",
       " 'explanation': 'Max pooling, average pooling, and median pooling are all common pooling operations.'}"
      ]
     },
     "execution_count": 27,
     "metadata": {},
     "output_type": "execute_result"
    }
   ],
   "source": [
    "answers[11]"
   ]
  },
  {
   "cell_type": "code",
   "execution_count": 28,
   "metadata": {},
   "outputs": [
    {
     "data": {
      "text/plain": [
       "{'question': 'What is a convolutional transpose layer used for?',\n",
       " 'opt1': 'Downsampling feature maps',\n",
       " 'opt2': 'Upsampling feature maps',\n",
       " 'opt3': 'Reducing model complexity',\n",
       " 'opt4': 'Improving generalization'}"
      ]
     },
     "execution_count": 28,
     "metadata": {},
     "output_type": "execute_result"
    }
   ],
   "source": [
    "mcq[12]"
   ]
  },
  {
   "cell_type": "code",
   "execution_count": 29,
   "metadata": {},
   "outputs": [
    {
     "data": {
      "text/plain": [
       "{'question': 'What is a convolutional transpose layer used for?',\n",
       " 'answer': 'Upsampling feature maps',\n",
       " 'explanation': 'Convolutional transpose layers upsample feature maps, effectively increasing their dimensions which is useful in tasks such as generating higher-resolution images.'}"
      ]
     },
     "execution_count": 29,
     "metadata": {},
     "output_type": "execute_result"
    }
   ],
   "source": [
    "answers[12]"
   ]
  },
  {
   "cell_type": "code",
   "execution_count": 30,
   "metadata": {},
   "outputs": [
    {
     "data": {
      "text/plain": [
       "{'question': 'What is the key difference between a convolutional layer and a fully connected layer?',\n",
       " 'opt1': 'Convolutional layers are computationally more efficient',\n",
       " 'opt2': 'Convolutional layers use parameter sharing',\n",
       " 'opt3': 'Convolutional layers preserve spatial relationships in the data',\n",
       " 'opt4': 'All of the above'}"
      ]
     },
     "execution_count": 30,
     "metadata": {},
     "output_type": "execute_result"
    }
   ],
   "source": [
    "mcq[13]"
   ]
  },
  {
   "cell_type": "code",
   "execution_count": 31,
   "metadata": {},
   "outputs": [
    {
     "data": {
      "text/plain": [
       "{'question': 'What is the key difference between a convolutional layer and a fully connected layer?',\n",
       " 'answer': 'All of the above',\n",
       " 'explanation': 'Convolutional layers are more efficient and better at capturing spatial relationships because they utilize parameter sharing and receptive fields while fully connected layers connect every neuron in one layer to every neuron in the next.'}"
      ]
     },
     "execution_count": 31,
     "metadata": {},
     "output_type": "execute_result"
    }
   ],
   "source": [
    "answers[13]"
   ]
  }
 ],
 "metadata": {
  "kernelspec": {
   "display_name": "venv",
   "language": "python",
   "name": "python3"
  },
  "language_info": {
   "codemirror_mode": {
    "name": "ipython",
    "version": 3
   },
   "file_extension": ".py",
   "mimetype": "text/x-python",
   "name": "python",
   "nbconvert_exporter": "python",
   "pygments_lexer": "ipython3",
   "version": "3.12.4"
  }
 },
 "nbformat": 4,
 "nbformat_minor": 2
}
